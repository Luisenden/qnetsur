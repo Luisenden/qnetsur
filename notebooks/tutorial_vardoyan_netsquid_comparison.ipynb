{
 "cells": [
  {
   "cell_type": "markdown",
   "metadata": {},
   "source": [
    "### Maximize Utility for Quantum Entanglement Switch \n",
    "\n",
    "In this tutorial, we reproduce parts of the analytical results of [Vardoyan et al., 2023](https://ieeexplore.ieee.org/abstract/document/10313675) and compare them to our simplest simulation setup `surrogate_vardoyan_netsquid_comparison.py`. "
   ]
  },
  {
   "cell_type": "markdown",
   "metadata": {},
   "source": [
    "<img src=\"Images/users-server-topology.png\" width=\"500\" height=\"300\">\n",
    "\n",
    "A four-node, three-link topology, where user-server pairs wish to communicate. \n",
    "\n",
    "Settings:\n",
    "- Attempt rate T = 10−3 s. \n",
    "- Links 1 and 2: 2 km long\n",
    "- Link 3: varied.\n",
    "- Buffer size B is unlimited for all users\n"
   ]
  },
  {
   "cell_type": "markdown",
   "metadata": {},
   "source": [
    "First, we solve the analytical problem (defined in detail in [Vardoyan et al., 2023](https://ieeexplore.ieee.org/abstract/document/10313675))."
   ]
  },
  {
   "cell_type": "markdown",
   "metadata": {},
   "source": [
    "**BUT BEFORE START**, [download](https://data.4tu.nl/datasets/a07a9e97-f34c-4e7f-9f68-1010bfb857d0) the result data and set the folder path\n",
    "\n",
    "\n",
    "`folder = /path/to/data/quantum_entanglement_switch/notebook_qswitch_vardoyan/`"
   ]
  },
  {
   "cell_type": "code",
   "execution_count": null,
   "metadata": {},
   "outputs": [],
   "source": [
    "folder = '...'"
   ]
  },
  {
   "cell_type": "code",
   "execution_count": null,
   "metadata": {},
   "outputs": [],
   "source": [
    "from scipy.optimize import minimize\n",
    "import pandas as pd\n",
    "import matplotlib.pyplot as plt\n",
    "import seaborn as sns\n",
    "import numpy as np\n",
    "import glob\n",
    "import pickle\n",
    "\n",
    "font = 20\n",
    "plt.rcParams.update({\n",
    "    'text.usetex': False,\n",
    "    'font.family': 'arial',\n",
    "    'font.size': font,\n",
    "    'axes.labelsize': font,  \n",
    "    'xtick.labelsize': font,  \n",
    "    'ytick.labelsize': font, \n",
    "    'legend.fontsize': font,\n",
    "    'legend.title_fontsize': font\n",
    "})\n",
    "\n",
    "beta = 0.2 # attenuation in fiber\n",
    "c_loss = 1 # other system losses\n",
    "\n",
    "attempt_durations_l = [10 ** -3, 10 ** -3] # [s]\n",
    "\n",
    "def Fidel(w):\n",
    "    return (3*w+1)/4 \n",
    "\n",
    "def D_H(w1,w2):\n",
    "    F = Fidel(w1*w2)\n",
    "    return 1 + F*np.log2(F) + (1-F) * np.log2((1-F)/3) if F > 0.81 else 1e-10 # yield of the so-called “hashing” protocol\n",
    "\n",
    "def U_D(R, w1, w2): \n",
    "    val = np.log(R*D_H(w1,w2))\n",
    "    return val\n",
    "\n",
    "def Objective(x):\n",
    "    R, w1, w2 = x\n",
    "    return - 2*U_D(R, w1, w2) + (2*R - d_l[0]*(1-w1))**2 + (R - d_l[1]*(1-w2))**2 \n",
    "\n",
    "res = {'Distance [km]':[], 'Server link':[], 'User link':[], 'Utility':[], 'Rate':[], 'Fidelity':[]}\n",
    "for i in [1.5**k for k in np.linspace(1,11.5,15)]:\n",
    "    distances_l = [i, 2] # [km]\n",
    "\n",
    "    eta_l = 10 ** (-0.1 * beta * np.array(distances_l)/2) # transmissivity between one link end and midpoint station\n",
    "    d_l = 3 * c_loss * eta_l / (2*np.array(attempt_durations_l))\n",
    "\n",
    "    sol = minimize(Objective, x0=(75, 0.95, 0.95), bounds=( (1,80), (0.85,1.), (0.85,1.)), method='L-BFGS-B')\n",
    "    rate, ws, wu = sol.x\n",
    "    U = U_D(rate, ws, wu)\n",
    "\n",
    "    res['Server link'].append(Fidel(ws))\n",
    "    res['User link'].append(Fidel(wu))\n",
    "    res['Utility'].append(2*U) # aggregated utility (two users)\n",
    "    res['Fidelity'].append(Fidel(ws*wu))\n",
    "    res['Rate'].append(rate) \n",
    "    res['Distance [km]'].append(i) \n",
    "df_res = pd.DataFrame.from_records(res)\n",
    "df_plot = df_res.melt(id_vars=['Distance [km]', 'Fidelity', 'Rate', 'Utility'], var_name='Type', value_name='Link Fidelity')\n"
   ]
  },
  {
   "cell_type": "markdown",
   "metadata": {},
   "source": [
    "Let's look at the analytical results:"
   ]
  },
  {
   "cell_type": "code",
   "execution_count": null,
   "metadata": {},
   "outputs": [],
   "source": [
    "df_plot"
   ]
  },
  {
   "cell_type": "markdown",
   "metadata": {},
   "source": [
    "Great, now we are ready to run the surrogate optimization applied to the qswitch setup in [NetSquid](https://netsquid.org). In order to run the qswitch simulation in NetSquid, you need to install `netsquid==0.10.3` and the [qswitch snippet](https://github.com/Luisenden/netsquid-qswitch), `version 1.1.1`. \n",
    "\n",
    "Then execute `python surrogate_vardoyan_netsquid_comparison.py --serverdist <distance> --iterator 100` (~3h runtime)\n",
    "\n",
    "Alternatively, you can retrieve the result data from our public data storage [LINK] and set the folders as suggested above."
   ]
  },
  {
   "cell_type": "code",
   "execution_count": null,
   "metadata": {},
   "outputs": [],
   "source": [
    "dfs = []\n",
    "for name in glob.glob(folder + 'Vardoyan*.csv'):\n",
    "    with open(name,'rb') as file: dfs.append(pd.read_csv(name, index_col=0))\n",
    "\n",
    "df = pd.concat(dfs, ignore_index=True)\n",
    "df"
   ]
  },
  {
   "cell_type": "markdown",
   "metadata": {},
   "source": [
    "**Visualization:** Plot utility, link-level fidelities (=solutions), rate and fidelity of end-to-end links"
   ]
  },
  {
   "cell_type": "code",
   "execution_count": null,
   "metadata": {},
   "outputs": [],
   "source": [
    "fig, ax = plt.subplots(figsize=(10,5))\n",
    "grouped= df.groupby('server_distance')\n",
    "plt.plot(df_res['Distance [km]'], df_res['Utility'], color='black', label='Analytical')\n",
    "plt.errorbar(df.server_distance, df.Utility, yerr=df.Utility_std,  fmt='^', color='black', label='Surrogate')\n",
    "plt.grid()\n",
    "plt.ylabel('Utility')\n",
    "plt.xlabel(r'Server Distance $L_{\\mathrm{server}}$ [km]')\n",
    "plt.legend()\n",
    "plt.tight_layout()\n",
    "plt.savefig('Images/QES-example1-utility.pdf')"
   ]
  },
  {
   "cell_type": "code",
   "execution_count": null,
   "metadata": {},
   "outputs": [],
   "source": [
    "plt.scatter(df.server_distance, 1-df.bright_state_user, marker='^', color='tab:orange')\n",
    "plt.scatter(df.server_distance, 1-df.bright_state_server, marker='^', color='tab:blue')\n",
    "sns.lineplot(data=df_plot, x='Distance [km]', y='Link Fidelity', hue='Type', markers=True)\n",
    "plt.ylabel('Fidelity')\n",
    "plt.xlabel(r'Server Distance $L_{\\mathrm{server}}$ [km]')\n",
    "plt.ylabel('Fidelity')\n",
    "plt.grid()\n",
    "plt.tight_layout()\n",
    "plt.savefig('Images/QES-example1-LinkFidelity.pdf')"
   ]
  },
  {
   "cell_type": "code",
   "execution_count": null,
   "metadata": {},
   "outputs": [],
   "source": [
    "fig, ax1 = plt.subplots()\n",
    "plt.errorbar(df.server_distance, df.Rate, yerr=df.Rate_std,  fmt='^', color='black', label= 'Surrogate')\n",
    "sns.lineplot(data=df_res, x='Distance [km]', y='Rate', markers=True, color='black', ax=ax1, label= 'Analytical')\n",
    "plt.xlabel(r'Server Distance $L_{\\mathrm{server}}$ [km]')\n",
    "plt.ylabel('Rate [Hz]')\n",
    "plt.grid()\n",
    "plt.legend()\n",
    "plt.tight_layout()\n",
    "plt.savefig('Images/QES-example1-Rate.pdf')"
   ]
  },
  {
   "cell_type": "code",
   "execution_count": null,
   "metadata": {},
   "outputs": [],
   "source": [
    "sns.lineplot(data=df_res, x='Distance [km]', y='Fidelity', markers=True, color='black',label= 'Analytical' )\n",
    "plt.errorbar(df.server_distance, df.Fidelity, yerr=df.Fidelity_std,  fmt='^', color='black', label= 'Surrogate')\n",
    "plt.ylim([0.7,1])\n",
    "plt.grid()\n",
    "plt.xlabel(r'Server Distance $L_{\\mathrm{server}}$ [km]')\n",
    "plt.legend()\n",
    "plt.tight_layout()\n",
    "plt.savefig('Images/QES-example1-Fidelity.pdf')"
   ]
  },
  {
   "cell_type": "markdown",
   "metadata": {},
   "source": [
    "**Werner states $\\rho_w$ are equivalent to how we model depolarization in simulation $\\rho_{depol}$:**\n",
    "$$\\rho_{B00} = |\\Psi^+><\\Psi^+|$$\n",
    "$$ \\rho_w  = w \\rho_{B00} + (1-w) \\frac{I_4}{4}$$"
   ]
  },
  {
   "cell_type": "markdown",
   "metadata": {},
   "source": [
    "$$\\rho_{depol} = (1-\\frac{3}{4}p)I\\rho_{B00}I + \\frac{p}{4}(X\\rho_{B00}X + Y\\rho_{B00}Y + Z\\rho_{B00}Z)$$ \n",
    "$$\\rho_{depol} = (1-\\frac{3}{4}p + \\frac{1}{4}p - \\frac{1}{4}p)I\\rho_{B00}I + \\frac{p}{4}(X\\rho_{B00}X + Y\\rho_{B00}Y + Z\\rho_{B00}Z)$$\n",
    "$$\\rho_{depol} = (1-p)I\\rho_{B00}I + \\frac{p}{4}(I\\rho_{B00}I + X\\rho_{B00}X + Y\\rho_{B00}Y + Z\\rho_{B00}Z)$$\n",
    "$$\\rho_{depol} = (1-p)\\rho_{B00} + \\frac{p}{4}I$$\n",
    "$$\\rightarrow w = 1-p$$"
   ]
  },
  {
   "cell_type": "markdown",
   "metadata": {},
   "source": [
    "Thus, we need to set the probability of an error happening to \n",
    "$$F = \\frac{3w+1}{4} = 1-\\alpha$$\n",
    "$$\\rightarrow w = 1 - \\frac{4}{3}\\alpha $$\n",
    "$$\\rightarrow p = 4/3\\alpha $$\n",
    "\n",
    "in our depolarization-error model in fiber (take a look at`netsquid_error_model.py`). "
   ]
  }
 ],
 "metadata": {
  "kernelspec": {
   "display_name": "netsquid7",
   "language": "python",
   "name": "python3"
  },
  "language_info": {
   "codemirror_mode": {
    "name": "ipython",
    "version": 3
   },
   "file_extension": ".py",
   "mimetype": "text/x-python",
   "name": "python",
   "nbconvert_exporter": "python",
   "pygments_lexer": "ipython3",
   "version": "3.9.19"
  },
  "orig_nbformat": 4
 },
 "nbformat": 4,
 "nbformat_minor": 2
}
