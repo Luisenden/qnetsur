{
 "cells": [
  {
   "cell_type": "code",
   "execution_count": 45,
   "metadata": {},
   "outputs": [],
   "source": [
    "import numpy as np\n",
    "import pandas as pd\n",
    "from scipy.optimize import minimize\n",
    "import sys\n",
    "sys.path.append('../')\n",
    "from qnetsur.simulatedannealing import simulated_annealing\n",
    "from qnetsur.utils import Simulation"
   ]
  },
  {
   "cell_type": "code",
   "execution_count": 77,
   "metadata": {},
   "outputs": [],
   "source": [
    "# minimize via simulated annealing. Note that it is a maximization algorithm - so the sign must be adjusted for minimization.\n",
    "def minimize_sa(objfunc, n, bounds:list, btype:str, tlimit:float):\n",
    "    vars = { # define variables and bounds for given simulation function \n",
    "        'range': {},\n",
    "        'choice':{},\n",
    "        'ordinal':{}\n",
    "    }\n",
    "    for i in range(n):\n",
    "        vars['range'][f'x{i}'] = (bounds, btype)\n",
    "\n",
    "    def simwrapper(sim, kwargs):\n",
    "        x = list(kwargs.values())\n",
    "        return [-sim(x)] # adjust sign\n",
    "    sim = Simulation(simwrapper, sim=objfunc, values={}, variables=vars, rng=np.random.default_rng(seed=42))\n",
    "    result = simulated_annealing(sim, beta_schedule=500, temp=5, limit=tlimit)\n",
    "    result = pd.DataFrame.from_records(result)\n",
    "    opt = result.iloc[result.objective.idxmax()]\n",
    "    return opt"
   ]
  },
  {
   "cell_type": "code",
   "execution_count": 78,
   "metadata": {},
   "outputs": [
    {
     "name": "stdout",
     "output_type": "stream",
     "text": [
      "RESULTS FOR BFGS: \n",
      "   message: CONVERGENCE: NORM_OF_PROJECTED_GRADIENT_<=_PGTOL\n",
      "  success: True\n",
      "   status: 0\n",
      "      fun: 4.700484288313155e-17\n",
      "        x: [-6.631e-09  4.271e-11  1.743e-09]\n",
      "      nit: 1\n",
      "      jac: [-3.261e-09  1.009e-08  1.349e-08]\n",
      "     nfev: 12\n",
      "     njev: 3\n",
      " hess_inv: <3x3 LbfgsInvHessProduct with dtype=float64>\n",
      "\n",
      "RESULTS FOR SA: \n",
      " x0           0.017513\n",
      "x1          -0.005656\n",
      "x2           0.007828\n",
      "objective   -0.000400\n",
      "time         0.000140\n",
      "Name: 210152, dtype: float64\n"
     ]
    }
   ],
   "source": [
    "# continuous benchmark function 137 to be optimized (source: https://arxiv.org/pdf/1308.4008)\n",
    "# cell takes about 33s to execute\n",
    "\n",
    "def f137(x):\n",
    "    return np.sum(np.square(x))\n",
    "\n",
    "n = 3 # optimum at f(0,0,...)\n",
    "bounds = [(-1, 1)] * n\n",
    "x0 = np.random.uniform(-1,1,n)\n",
    "res_bfgs = minimize(f137, x0, method='L-BFGS-B', bounds=bounds)\n",
    "res_sa = minimize_sa(f137, n, [-1. , 1.], 'float', tlimit=0.01)\n",
    "\n",
    "print('RESULTS FOR BFGS: \\n', res_bfgs)\n",
    "print('\\nRESULTS FOR SA: \\n', res_sa)"
   ]
  },
  {
   "cell_type": "code",
   "execution_count": 87,
   "metadata": {},
   "outputs": [
    {
     "name": "stdout",
     "output_type": "stream",
     "text": [
      "RESULTS FOR BFGS: \n",
      "   message: CONVERGENCE: NORM_OF_PROJECTED_GRADIENT_<=_PGTOL\n",
      "  success: True\n",
      "   status: 0\n",
      "      fun: 0.38735659109503506\n",
      "        x: [-7.251e-01  1.747e-07]\n",
      "      nit: 9\n",
      "      jac: [-8.105e-07  4.791e-06]\n",
      "     nfev: 42\n",
      "     njev: 14\n",
      " hess_inv: <2x2 LbfgsInvHessProduct with dtype=float64>\n",
      "\n",
      "RESULTS FOR SA: \n",
      " x0          -0.000286\n",
      "x1           0.000739\n",
      "objective    0.199992\n",
      "time         0.000124\n",
      "Name: 26244, dtype: float64\n"
     ]
    }
   ],
   "source": [
    "# discontinuous benchmark function 38 to be optimized (source: https://arxiv.org/pdf/1308.4008)\n",
    "# cell takes about 51s to execute\n",
    "\n",
    "def f38(x):\n",
    "    term1 = -0.1 * np.sum(np.cos(5 * np.pi * np.array(x)))\n",
    "    term2 = np.sum(np.square(x))\n",
    "    return term1 + term2\n",
    "\n",
    "n = 2 # optimum is -0.2, respectively at f(0,0)\n",
    "bounds = [(-1, 1)] * n\n",
    "x0 = np.random.uniform(-1,1,n)\n",
    "res_bfgs = minimize(f38, x0, method='L-BFGS-B', bounds=bounds)\n",
    "res_sa = minimize_sa(f38, n, [-1. , 1.], 'float', tlimit=0.02)\n",
    "\n",
    "print('RESULTS FOR BFGS: \\n', res_bfgs)\n",
    "print('\\nRESULTS FOR SA: \\n', res_sa)"
   ]
  },
  {
   "cell_type": "code",
   "execution_count": 88,
   "metadata": {},
   "outputs": [
    {
     "name": "stdout",
     "output_type": "stream",
     "text": [
      "RESULTS FOR BFGS: \n",
      "   message: CONVERGENCE: NORM_OF_PROJECTED_GRADIENT_<=_PGTOL\n",
      "  success: True\n",
      "   status: 0\n",
      "      fun: 1.2173608285176432e-16\n",
      "        x: [-5.000e-01 -5.000e-01  5.000e-01 -5.000e-01]\n",
      "      nit: 1\n",
      "      jac: [ 2.422e-09  3.121e-09 -1.827e-09 -5.567e-09]\n",
      "     nfev: 15\n",
      "     njev: 3\n",
      " hess_inv: <4x4 LbfgsInvHessProduct with dtype=float64>\n",
      "\n",
      "RESULTS FOR SA: \n",
      " x0          -0.531012\n",
      "x1          -0.517535\n",
      "x2           0.503465\n",
      "x3          -0.491062\n",
      "objective   -0.001361\n",
      "time         0.000188\n",
      "Name: 74002, dtype: float64\n"
     ]
    }
   ],
   "source": [
    "# disc. benchmark function 139 to be optimized (source: https://arxiv.org/pdf/1308.4008)\n",
    "# cell takes about 12s to execute\n",
    "\n",
    "def f139(x):\n",
    "    return np.sum((np.abs(x) - 0.5) ** 2)\n",
    "\n",
    "n = 4 # optimum is 0, respectively at f(0.5,0.5,...)\n",
    "bounds = [(-1, 1)] * n\n",
    "x0 = np.random.uniform(-1,1,n)\n",
    "res_bfgs = minimize(f139, x0, method='L-BFGS-B', bounds=bounds)\n",
    "res_sa = minimize_sa(f139, n, [-1. , 1.], 'float', tlimit=0.005)\n",
    "\n",
    "print('RESULTS FOR BFGS: \\n', res_bfgs)\n",
    "print('\\nRESULTS FOR SA: \\n', res_sa)"
   ]
  }
 ],
 "metadata": {
  "kernelspec": {
   "display_name": "qnetsur",
   "language": "python",
   "name": "python3"
  },
  "language_info": {
   "codemirror_mode": {
    "name": "ipython",
    "version": 3
   },
   "file_extension": ".py",
   "mimetype": "text/x-python",
   "name": "python",
   "nbconvert_exporter": "python",
   "pygments_lexer": "ipython3",
   "version": "3.9.19"
  }
 },
 "nbformat": 4,
 "nbformat_minor": 2
}
