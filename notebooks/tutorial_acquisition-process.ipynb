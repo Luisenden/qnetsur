{
 "cells": [
  {
   "cell_type": "code",
   "execution_count": null,
   "metadata": {},
   "outputs": [],
   "source": [
    "import matplotlib.pyplot as plt\n",
    "import numpy as np\n",
    "import seaborn as sns\n",
    "%matplotlib inline\n",
    "plt.style.use(\"seaborn-v0_8-paper\")\n",
    "\n",
    "font = 16\n",
    "plt.rcParams.update({\n",
    "    'text.usetex': False,\n",
    "    'font.family': 'arial',\n",
    "    'font.size': font,\n",
    "    'axes.labelsize': font,  \n",
    "    'xtick.labelsize': font,  \n",
    "    'ytick.labelsize': font, \n",
    "    'legend.fontsize': font,\n",
    "    'legend.title_fontsize': font,\n",
    "    'axes.titlesize': font\n",
    "})\n",
    "import warnings\n",
    "warnings.filterwarnings(\"ignore\")"
   ]
  },
  {
   "attachments": {},
   "cell_type": "markdown",
   "metadata": {},
   "source": [
    "### Exploration vs. Exploitation \n",
    "\n",
    "using exploitation degree $d$"
   ]
  },
  {
   "cell_type": "code",
   "execution_count": null,
   "metadata": {},
   "outputs": [],
   "source": [
    "T = 1\n",
    "gamma = lambda count, d: (1-np.log(1+count/int(T))**2)**d\n",
    "x = np.linspace(0,T,100)\n",
    "for d in range(0,6):\n",
    "    plt.plot(x, [gamma(count,d) for count in x], label=f'd={d}', color=sns.color_palette()[d])\n",
    "plt.legend()\n",
    "plt.title(r'Transition function $\\gamma(t)$')\n",
    "plt.show()"
   ]
  },
  {
   "cell_type": "markdown",
   "metadata": {},
   "source": [
    "Assume $d=4$ and we just started the surrogate optimization process $t=0$"
   ]
  },
  {
   "cell_type": "code",
   "execution_count": null,
   "metadata": {},
   "outputs": [],
   "source": [
    "d = 2\n",
    "gamma(0,d)"
   ]
  },
  {
   "cell_type": "markdown",
   "metadata": {},
   "source": [
    "How does the truncated normal distribution (from which we sample the points for the machine learning models) look like?"
   ]
  },
  {
   "cell_type": "code",
   "execution_count": null,
   "metadata": {},
   "outputs": [],
   "source": [
    "from scipy.stats import truncnorm\n",
    "\n",
    "xmin = 2\n",
    "xmax = 7\n",
    "x = 4\n",
    "std = gamma(0,d) * (xmax - xmin)/2\n",
    "sample = truncnorm.rvs((xmin - x) / std, (xmax+1 - x) / std, loc=x, scale=std, size=10000)\n",
    "sample = sample.astype(int)"
   ]
  },
  {
   "cell_type": "code",
   "execution_count": null,
   "metadata": {},
   "outputs": [],
   "source": [
    "fig = plt.hist(sample, bins=50)\n",
    "plt.xlim((0,9))\n",
    "plt.show()"
   ]
  },
  {
   "cell_type": "markdown",
   "metadata": {},
   "source": [
    "Now assume $d=4$ and the end of the optimization process is reached $t=T$."
   ]
  },
  {
   "cell_type": "code",
   "execution_count": null,
   "metadata": {},
   "outputs": [],
   "source": [
    "d=2\n",
    "gamma(1,d)"
   ]
  },
  {
   "cell_type": "code",
   "execution_count": null,
   "metadata": {},
   "outputs": [],
   "source": [
    "std = gamma(1,d) * (xmax - xmin)/2\n",
    "sample = truncnorm.rvs((xmin - x) / std, (xmax+1 - x) / std, loc=x, scale=std, size=10000)\n",
    "sample = sample.astype(int)"
   ]
  },
  {
   "cell_type": "code",
   "execution_count": null,
   "metadata": {},
   "outputs": [],
   "source": [
    "fig = plt.hist(sample, bins=50)\n",
    "plt.xlim((0,9))\n",
    "plt.show()"
   ]
  },
  {
   "cell_type": "code",
   "execution_count": null,
   "metadata": {},
   "outputs": [],
   "source": []
  }
 ],
 "metadata": {
  "kernelspec": {
   "display_name": "qnetsur",
   "language": "python",
   "name": "python3"
  },
  "language_info": {
   "codemirror_mode": {
    "name": "ipython",
    "version": 3
   },
   "file_extension": ".py",
   "mimetype": "text/x-python",
   "name": "python",
   "nbconvert_exporter": "python",
   "pygments_lexer": "ipython3",
   "version": "3.9.18"
  },
  "orig_nbformat": 4
 },
 "nbformat": 4,
 "nbformat_minor": 2
}
