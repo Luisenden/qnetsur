{
 "cells": [
  {
   "cell_type": "code",
   "execution_count": 2,
   "metadata": {},
   "outputs": [],
   "source": [
    "import random\n",
    "import numpy as np\n",
    "import pandas as pd\n",
    "import matplotlib.pyplot as plt"
   ]
  },
  {
   "cell_type": "code",
   "execution_count": 3,
   "metadata": {},
   "outputs": [],
   "source": [
    "import importlib\n",
    "import utils\n",
    "import simulatedannealing\n",
    "from main_cd import main_cd as main\n",
    "importlib.reload(utils)\n",
    "importlib.reload(simulatedannealing)\n",
    "from utils import *\n"
   ]
  },
  {
   "attachments": {},
   "cell_type": "markdown",
   "metadata": {},
   "source": [
    "CLUSTER RESULTS - 28.09.2023"
   ]
  },
  {
   "cell_type": "code",
   "execution_count": 107,
   "metadata": {},
   "outputs": [],
   "source": [
    "import pickle\n",
    "\n",
    "# surrogate optimization and simulated annealing\n",
    "with open('../surdata/tree35_iter-20_objective-meanopt10-10-2023_11:50.pkl', 'rb') as file: \n",
    "    # Load the object from the file\n",
    "    loaded_data = pickle.load(file)\n",
    "model, time, refmodel, xSA, ySA, timeSA = loaded_data"
   ]
  },
  {
   "cell_type": "code",
   "execution_count": 108,
   "metadata": {},
   "outputs": [],
   "source": [
    "# bandit optimization\n",
    "with open('../surdata/Ax_tree35_iter-120_objective-meanopt10-27-2023_16:13.pkl', 'rb') as file: \n",
    "    # Load the object from the file\n",
    "    ax_data = pickle.load(file)"
   ]
  },
  {
   "cell_type": "code",
   "execution_count": 109,
   "metadata": {},
   "outputs": [
    {
     "data": {
      "text/plain": [
       "3.247015610651974"
      ]
     },
     "execution_count": 109,
     "metadata": {},
     "output_type": "execute_result"
    }
   ],
   "source": [
    "np.mean(model.y[-1])"
   ]
  },
  {
   "cell_type": "code",
   "execution_count": 110,
   "metadata": {},
   "outputs": [
    {
     "data": {
      "text/plain": [
       "3.1404958677685952"
      ]
     },
     "execution_count": 110,
     "metadata": {},
     "output_type": "execute_result"
    }
   ],
   "source": [
    "-ySA[-1]"
   ]
  },
  {
   "cell_type": "code",
   "execution_count": 111,
   "metadata": {},
   "outputs": [
    {
     "data": {
      "text/plain": [
       "trial_index                119\n",
       "arm_name                 119_0\n",
       "trial_status         COMPLETED\n",
       "generation_method         GPEI\n",
       "mean                  2.762167\n",
       "M                            3\n",
       "qbits_per_channel           12\n",
       "cutoff                    10.0\n",
       "q_swap                0.684047\n",
       "p_cons                     0.2\n",
       "Name: 119, dtype: object"
      ]
     },
     "execution_count": 111,
     "metadata": {},
     "output_type": "execute_result"
    }
   ],
   "source": [
    "ax_experiment = ax_data[0]\n",
    "ax_experiment.get_trials_data_frame().iloc[-1]"
   ]
  },
  {
   "attachments": {},
   "cell_type": "markdown",
   "metadata": {},
   "source": [
    "Ax"
   ]
  },
  {
   "cell_type": "code",
   "execution_count": 42,
   "metadata": {},
   "outputs": [
    {
     "data": {
      "text/plain": [
       "[AxClient(experiment=Experiment(simulation_test_experiment)),\n",
       " 575.6018500328064,\n",
       " {'A': array([[0., 1., 1., 1., 0., 0., 1., 0., 0.],\n",
       "         [1., 0., 1., 0., 1., 0., 0., 1., 0.],\n",
       "         [1., 1., 0., 0., 0., 1., 0., 0., 1.],\n",
       "         [1., 0., 0., 0., 1., 1., 1., 0., 0.],\n",
       "         [0., 1., 0., 1., 0., 1., 0., 1., 0.],\n",
       "         [0., 0., 1., 1., 1., 0., 0., 0., 1.],\n",
       "         [1., 0., 0., 1., 0., 0., 0., 1., 1.],\n",
       "         [0., 1., 0., 0., 1., 0., 1., 0., 1.],\n",
       "         [0., 0., 1., 0., 0., 1., 1., 1., 0.]]),\n",
       "  'protocol': 'srs',\n",
       "  'p_gen': 0.9,\n",
       "  'p_swap': 1,\n",
       "  'return_data': 'avg',\n",
       "  'progress_bar': None,\n",
       "  'total_time': 300,\n",
       "  'N_samples': 10}]"
      ]
     },
     "execution_count": 42,
     "metadata": {},
     "output_type": "execute_result"
    }
   ],
   "source": [
    "ax_data"
   ]
  },
  {
   "cell_type": "code",
   "execution_count": 43,
   "metadata": {},
   "outputs": [],
   "source": [
    "ax_experiment = ax_data[0]\n"
   ]
  },
  {
   "cell_type": "code",
   "execution_count": 44,
   "metadata": {},
   "outputs": [
    {
     "data": {
      "text/plain": [
       "AxClient(experiment=Experiment(simulation_test_experiment))"
      ]
     },
     "execution_count": 44,
     "metadata": {},
     "output_type": "execute_result"
    }
   ],
   "source": [
    "ax_experiment"
   ]
  },
  {
   "cell_type": "code",
   "execution_count": 36,
   "metadata": {},
   "outputs": [],
   "source": [
    "df_ax_results = ax_experiment.get_trials_data_frame().iloc[:, 4:11]\n",
    "df_ax_results['node_mean'] = df_ax_results.apply(np.mean, axis=1)"
   ]
  },
  {
   "cell_type": "code",
   "execution_count": 45,
   "metadata": {},
   "outputs": [
    {
     "data": {
      "text/plain": [
       "0      5.851852\n",
       "1      4.246914\n",
       "2      4.617284\n",
       "3      5.913580\n",
       "4      5.901235\n",
       "         ...   \n",
       "115    6.345679\n",
       "116    6.950617\n",
       "117    6.666667\n",
       "118    6.234568\n",
       "119    6.641975\n",
       "Name: mean, Length: 120, dtype: float64"
      ]
     },
     "execution_count": 45,
     "metadata": {},
     "output_type": "execute_result"
    }
   ],
   "source": [
    "ax_experiment.get_trials_data_frame()['mean']"
   ]
  },
  {
   "cell_type": "code",
   "execution_count": 116,
   "metadata": {},
   "outputs": [
    {
     "data": {
      "text/plain": [
       "<matplotlib.legend.Legend at 0x2bd951be0>"
      ]
     },
     "execution_count": 116,
     "metadata": {},
     "output_type": "execute_result"
    },
    {
     "data": {
      "image/png": "[encoded data removed]",
      "text/plain": [
       "<Figure size 640x480 with 1 Axes>"
      ]
     },
     "metadata": {},
     "output_type": "display_data"
    }
   ],
   "source": [
    "#fig = plt.figure(figsize=(20,10))\n",
    "plt.title('Surrogate Optimization')\n",
    "plt.plot([np.mean(y_i) for y_i in np.array(model.y)], 'x', label='Surrogate optimization')\n",
    "#plt.plot([np.mean(y_i) for y_i in np.array(ySA)*-1], 'x', label='Baseline (simulated annealing)')\n",
    "plt.plot(ax_experiment.get_trials_data_frame()['mean'], 'x', label='Baseline (BoTorch)')\n",
    "#plt.plot([np.mean(np.array(y_i)) for y_i in refmodel.y],'x', label='Random evaluations')\n",
    "plt.ylabel('# virtual neighbours')\n",
    "plt.xlabel('Iteration')\n",
    "plt.legend()"
   ]
  },
  {
   "cell_type": "code",
   "execution_count": 28,
   "metadata": {},
   "outputs": [
    {
     "data": {
      "text/html": [
       "<div>\n",
       "<style scoped>\n",
       "    .dataframe tbody tr th:only-of-type {\n",
       "        vertical-align: middle;\n",
       "    }\n",
       "\n",
       "    .dataframe tbody tr th {\n",
       "        vertical-align: top;\n",
       "    }\n",
       "\n",
       "    .dataframe thead th {\n",
       "        text-align: right;\n",
       "    }\n",
       "</style>\n",
       "<table border=\"1\" class=\"dataframe\">\n",
       "  <thead>\n",
       "    <tr style=\"text-align: right;\">\n",
       "      <th></th>\n",
       "      <th>trial_index</th>\n",
       "      <th>arm_name</th>\n",
       "      <th>trial_status</th>\n",
       "      <th>generation_method</th>\n",
       "      <th>mean</th>\n",
       "      <th>M</th>\n",
       "      <th>qbits_per_channel</th>\n",
       "      <th>cutoff</th>\n",
       "      <th>q_swap</th>\n",
       "      <th>p_cons</th>\n",
       "    </tr>\n",
       "  </thead>\n",
       "  <tbody>\n",
       "    <tr>\n",
       "      <th>0</th>\n",
       "      <td>0</td>\n",
       "      <td>0_0</td>\n",
       "      <td>COMPLETED</td>\n",
       "      <td>Sobol</td>\n",
       "      <td>2.448118</td>\n",
       "      <td>5</td>\n",
       "      <td>3</td>\n",
       "      <td>6.957043</td>\n",
       "      <td>0.972659</td>\n",
       "      <td>0.107974</td>\n",
       "    </tr>\n",
       "    <tr>\n",
       "      <th>1</th>\n",
       "      <td>1</td>\n",
       "      <td>1_0</td>\n",
       "      <td>COMPLETED</td>\n",
       "      <td>Sobol</td>\n",
       "      <td>2.191001</td>\n",
       "      <td>5</td>\n",
       "      <td>50</td>\n",
       "      <td>3.687072</td>\n",
       "      <td>0.195957</td>\n",
       "      <td>0.056803</td>\n",
       "    </tr>\n",
       "    <tr>\n",
       "      <th>2</th>\n",
       "      <td>2</td>\n",
       "      <td>2_0</td>\n",
       "      <td>COMPLETED</td>\n",
       "      <td>Sobol</td>\n",
       "      <td>2.743802</td>\n",
       "      <td>4</td>\n",
       "      <td>37</td>\n",
       "      <td>6.783028</td>\n",
       "      <td>0.827821</td>\n",
       "      <td>0.194770</td>\n",
       "    </tr>\n",
       "    <tr>\n",
       "      <th>3</th>\n",
       "      <td>3</td>\n",
       "      <td>3_0</td>\n",
       "      <td>COMPLETED</td>\n",
       "      <td>Sobol</td>\n",
       "      <td>1.836547</td>\n",
       "      <td>2</td>\n",
       "      <td>22</td>\n",
       "      <td>1.234270</td>\n",
       "      <td>0.494645</td>\n",
       "      <td>0.163173</td>\n",
       "    </tr>\n",
       "    <tr>\n",
       "      <th>4</th>\n",
       "      <td>4</td>\n",
       "      <td>4_0</td>\n",
       "      <td>COMPLETED</td>\n",
       "      <td>Sobol</td>\n",
       "      <td>3.340680</td>\n",
       "      <td>8</td>\n",
       "      <td>29</td>\n",
       "      <td>9.946476</td>\n",
       "      <td>0.879804</td>\n",
       "      <td>0.069523</td>\n",
       "    </tr>\n",
       "    <tr>\n",
       "      <th>...</th>\n",
       "      <td>...</td>\n",
       "      <td>...</td>\n",
       "      <td>...</td>\n",
       "      <td>...</td>\n",
       "      <td>...</td>\n",
       "      <td>...</td>\n",
       "      <td>...</td>\n",
       "      <td>...</td>\n",
       "      <td>...</td>\n",
       "      <td>...</td>\n",
       "    </tr>\n",
       "    <tr>\n",
       "      <th>115</th>\n",
       "      <td>115</td>\n",
       "      <td>115_0</td>\n",
       "      <td>COMPLETED</td>\n",
       "      <td>GPEI</td>\n",
       "      <td>3.543618</td>\n",
       "      <td>9</td>\n",
       "      <td>43</td>\n",
       "      <td>9.842401</td>\n",
       "      <td>1.000000</td>\n",
       "      <td>0.028671</td>\n",
       "    </tr>\n",
       "    <tr>\n",
       "      <th>116</th>\n",
       "      <td>116</td>\n",
       "      <td>116_0</td>\n",
       "      <td>COMPLETED</td>\n",
       "      <td>GPEI</td>\n",
       "      <td>3.017447</td>\n",
       "      <td>6</td>\n",
       "      <td>21</td>\n",
       "      <td>6.879380</td>\n",
       "      <td>0.783876</td>\n",
       "      <td>0.065972</td>\n",
       "    </tr>\n",
       "    <tr>\n",
       "      <th>117</th>\n",
       "      <td>117</td>\n",
       "      <td>117_0</td>\n",
       "      <td>COMPLETED</td>\n",
       "      <td>GPEI</td>\n",
       "      <td>3.264463</td>\n",
       "      <td>8</td>\n",
       "      <td>33</td>\n",
       "      <td>8.767982</td>\n",
       "      <td>0.840266</td>\n",
       "      <td>0.055270</td>\n",
       "    </tr>\n",
       "    <tr>\n",
       "      <th>118</th>\n",
       "      <td>118</td>\n",
       "      <td>118_0</td>\n",
       "      <td>COMPLETED</td>\n",
       "      <td>GPEI</td>\n",
       "      <td>3.426997</td>\n",
       "      <td>6</td>\n",
       "      <td>37</td>\n",
       "      <td>10.000000</td>\n",
       "      <td>1.000000</td>\n",
       "      <td>0.074457</td>\n",
       "    </tr>\n",
       "    <tr>\n",
       "      <th>119</th>\n",
       "      <td>119</td>\n",
       "      <td>119_0</td>\n",
       "      <td>COMPLETED</td>\n",
       "      <td>GPEI</td>\n",
       "      <td>2.762167</td>\n",
       "      <td>3</td>\n",
       "      <td>12</td>\n",
       "      <td>10.000000</td>\n",
       "      <td>0.684047</td>\n",
       "      <td>0.200000</td>\n",
       "    </tr>\n",
       "  </tbody>\n",
       "</table>\n",
       "<p>120 rows × 10 columns</p>\n",
       "</div>"
      ],
      "text/plain": [
       "     trial_index arm_name trial_status generation_method      mean  M  \\\n",
       "0              0      0_0    COMPLETED             Sobol  2.448118  5   \n",
       "1              1      1_0    COMPLETED             Sobol  2.191001  5   \n",
       "2              2      2_0    COMPLETED             Sobol  2.743802  4   \n",
       "3              3      3_0    COMPLETED             Sobol  1.836547  2   \n",
       "4              4      4_0    COMPLETED             Sobol  3.340680  8   \n",
       "..           ...      ...          ...               ...       ... ..   \n",
       "115          115    115_0    COMPLETED              GPEI  3.543618  9   \n",
       "116          116    116_0    COMPLETED              GPEI  3.017447  6   \n",
       "117          117    117_0    COMPLETED              GPEI  3.264463  8   \n",
       "118          118    118_0    COMPLETED              GPEI  3.426997  6   \n",
       "119          119    119_0    COMPLETED              GPEI  2.762167  3   \n",
       "\n",
       "     qbits_per_channel     cutoff    q_swap    p_cons  \n",
       "0                    3   6.957043  0.972659  0.107974  \n",
       "1                   50   3.687072  0.195957  0.056803  \n",
       "2                   37   6.783028  0.827821  0.194770  \n",
       "3                   22   1.234270  0.494645  0.163173  \n",
       "4                   29   9.946476  0.879804  0.069523  \n",
       "..                 ...        ...       ...       ...  \n",
       "115                 43   9.842401  1.000000  0.028671  \n",
       "116                 21   6.879380  0.783876  0.065972  \n",
       "117                 33   8.767982  0.840266  0.055270  \n",
       "118                 37  10.000000  1.000000  0.074457  \n",
       "119                 12  10.000000  0.684047  0.200000  \n",
       "\n",
       "[120 rows x 10 columns]"
      ]
     },
     "execution_count": 28,
     "metadata": {},
     "output_type": "execute_result"
    }
   ],
   "source": [
    "ax_experiment.get()"
   ]
  },
  {
   "cell_type": "code",
   "execution_count": 30,
   "metadata": {},
   "outputs": [
    {
     "name": "stderr",
     "output_type": "stream",
     "text": [
      "/opt/homebrew/Caskroom/miniforge/base/envs/qnetsur/lib/python3.9/site-packages/ax/utils/stats/model_fit_stats.py:132: RuntimeWarning: divide by zero encountered in divide\n",
      "  return float(np.mean(1.96 * 2 * se_pred / np.abs(y_obs)))\n",
      "/opt/homebrew/Caskroom/miniforge/base/envs/qnetsur/lib/python3.9/site-packages/ax/utils/stats/model_fit_stats.py:143: RuntimeWarning: divide by zero encountered in divide\n",
      "  return float(np.mean(np.abs((y_pred - y_obs) / y_obs)))\n",
      "/opt/homebrew/Caskroom/miniforge/base/envs/qnetsur/lib/python3.9/site-packages/ax/utils/stats/model_fit_stats.py:150: RuntimeWarning: divide by zero encountered in scalar divide\n",
      "  return float((np.max(y_obs) - min_y_obs) / min_y_obs)\n"
     ]
    },
    {
     "data": {
      "text/plain": [
       "(119,\n",
       " {'M': 8,\n",
       "  'qbits_per_channel': 39,\n",
       "  'cutoff': 8.818591914672425,\n",
       "  'q_swap': 1.0,\n",
       "  'p_cons': 0.01},\n",
       " ({'mean': 3.455816937480411}, {'mean': {'mean': 0.027636438499553682}}))"
      ]
     },
     "execution_count": 30,
     "metadata": {},
     "output_type": "execute_result"
    }
   ],
   "source": [
    "ax_experiment.get_best_trial()"
   ]
  },
  {
   "attachments": {},
   "cell_type": "markdown",
   "metadata": {},
   "source": [
    "SURROGATE TEST"
   ]
  },
  {
   "cell_type": "code",
   "execution_count": 255,
   "metadata": {},
   "outputs": [],
   "source": [
    "from sklearn.svm import SVR\n",
    "from sklearn.ensemble import ExtraTreesRegressor\n",
    "\n",
    "a = -5\n",
    "b = 5\n",
    "n=100\n",
    "\n",
    "res = []\n",
    "\n",
    "dim = 5\n",
    "fun = lambda row: -sum([row[i]**2 for i in range(dim)])\n",
    "\n",
    "def get_neighbour(row,count): \n",
    "    f = (1-np.log(1+count/n))**4\n",
    "    return np.array([np.random.normal(row[i], scale=(np.sqrt(b-a)*f)) for i in range(dim)])\n",
    "\n",
    "df = pd.DataFrame((b-a)*np.random.sample((1000,dim))+a)\n",
    "for i in range(n):\n",
    "    model = SVR()\n",
    "    target = df.apply(fun, axis=1)\n",
    "    model.fit(df,target)\n",
    "    df_add = pd.DataFrame.from_records(df.iloc[np.argsort(target)[-20:].values].apply(get_neighbour, args=(i,), axis=1).to_numpy())\n",
    "    y = model.predict(df_add)\n",
    "    y = np.concatenate([target,y])\n",
    "    index = y.argmax()\n",
    "    #print(i)\n",
    "    \n",
    "    \n",
    "    df = pd.concat([df, df_add], axis=0, ignore_index=True)\n",
    "    res.append(df.iloc[index].to_frame().apply(fun)) "
   ]
  },
  {
   "cell_type": "code",
   "execution_count": 256,
   "metadata": {},
   "outputs": [
    {
     "name": "stdout",
     "output_type": "stream",
     "text": [
      "-0.0009051172038535393\n"
     ]
    },
    {
     "data": {
      "image/png": "[encoded data removed]",
      "text/plain": [
       "<Figure size 640x480 with 1 Axes>"
      ]
     },
     "metadata": {},
     "output_type": "display_data"
    }
   ],
   "source": [
    "plt.plot(res, 'x')\n",
    "print(np.max(res))"
   ]
  },
  {
   "cell_type": "code",
   "execution_count": 302,
   "metadata": {},
   "outputs": [],
   "source": [
    "from scipy.optimize import minimize\n",
    "import numpy as np\n",
    "\n",
    "def cosmixture(**kwargs):\n",
    "    a = kwargs.get('a', 0)\n",
    "    b = kwargs.get('b', 0)\n",
    "    c = kwargs.get('c', 0)\n",
    "    return -(a * np.cos(b) + c)\n",
    "\n",
    "# Create a function that takes a 1-D array and converts it to **kwargs\n",
    "def objective_function(params):\n",
    "    kwargs = {'a': params[0], 'b': params[1], 'c': params[2]}\n",
    "    return cosmixture(**kwargs)\n",
    "\n",
    "# Initial guess for parameters as a 1-D array\n",
    "initial_guess = [1, 1, 1]\n",
    "\n",
    "# Perform the optimization\n",
    "result = minimize(objective_function, initial_guess, method='Nelder-Mead')\n",
    "\n",
    "# Extract the optimized parameters\n",
    "optimized_params = result.x"
   ]
  },
  {
   "cell_type": "code",
   "execution_count": 18,
   "metadata": {},
   "outputs": [],
   "source": [
    "import pickle\n",
    "\n",
    "with open('../surdata/scipy_vs_simanneal.pkl', 'rb') as file: # ../surdata/tree23_iter-10_objective-meanopt10-03-2023_18:04.pkl\n",
    "    # Load the object from the file\n",
    "    loaded_data = pickle.load(file)"
   ]
  },
  {
   "cell_type": "code",
   "execution_count": 24,
   "metadata": {},
   "outputs": [
    {
     "data": {
      "text/plain": [
       "[71.86763978750275,\n",
       " 42.580355501571766,\n",
       " 54.41926217369501,\n",
       " 15.838702433143798,\n",
       " 12.928220368330127,\n",
       " 1.14104508600452]"
      ]
     },
     "execution_count": 24,
     "metadata": {},
     "output_type": "execute_result"
    }
   ],
   "source": [
    "loaded_data[0][0][1][-1]"
   ]
  },
  {
   "cell_type": "code",
   "execution_count": null,
   "metadata": {},
   "outputs": [],
   "source": []
  }
 ],
 "metadata": {
  "kernelspec": {
   "display_name": "qnetsur",
   "language": "python",
   "name": "python3"
  },
  "language_info": {
   "codemirror_mode": {
    "name": "ipython",
    "version": 3
   },
   "file_extension": ".py",
   "mimetype": "text/x-python",
   "name": "python",
   "nbconvert_exporter": "python",
   "pygments_lexer": "ipython3",
   "version": "3.9.18"
  },
  "orig_nbformat": 4
 },
 "nbformat": 4,
 "nbformat_minor": 2
}
