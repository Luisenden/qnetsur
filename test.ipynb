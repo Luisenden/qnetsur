{
 "cells": [
  {
   "cell_type": "code",
   "execution_count": 223,
   "metadata": {},
   "outputs": [],
   "source": [
    "import random\n",
    "import numpy as np\n",
    "import pandas as pd\n",
    "import matplotlib.pyplot as plt\n",
    "import seaborn as sns"
   ]
  },
  {
   "cell_type": "code",
   "execution_count": 177,
   "metadata": {},
   "outputs": [],
   "source": [
    "import importlib\n",
    "import utils\n",
    "import simulatedannealing\n",
    "from main_cd import main_cd as main\n",
    "importlib.reload(utils)\n",
    "importlib.reload(simulatedannealing)\n",
    "from utils import *\n"
   ]
  },
  {
   "attachments": {},
   "cell_type": "markdown",
   "metadata": {},
   "source": [
    "CLUSTER RESULTS - 28.09.2023"
   ]
  },
  {
   "cell_type": "code",
   "execution_count": 359,
   "metadata": {},
   "outputs": [
    {
     "data": {
      "text/plain": [
       "[[<utils.Surrogate at 0x2d36a5670>,\n",
       "  <utils.Surrogate at 0x2d7011ac0>,\n",
       "  <utils.Surrogate at 0x2d78564c0>,\n",
       "  <utils.Surrogate at 0x2d7eaa2e0>,\n",
       "  <utils.Surrogate at 0x2d8bd0a60>,\n",
       "  <utils.Surrogate at 0x2d8d1d430>,\n",
       "  <utils.Surrogate at 0x2d8e6bdc0>,\n",
       "  <utils.Surrogate at 0x2d8fb8790>,\n",
       "  <utils.Surrogate at 0x2d9207160>,\n",
       "  <utils.Surrogate at 0x2d93deaf0>],\n",
       " 231.4167746782303,\n",
       " <utils.Surrogate at 0x2d95cf4c0>]"
      ]
     },
     "execution_count": 359,
     "metadata": {},
     "output_type": "execute_result"
    }
   ],
   "source": [
    "import pickle\n",
    "\n",
    "# surrogate optimization and simulated annealing\n",
    "with open('../surdata/Sur_tree34_iter-20_objective-meanopt10-31-2023_23:11.pkl', 'rb') as file: \n",
    "    # Load the object from the file\n",
    "    sur_loaded_data = pickle.load(file)\n",
    "sur_loaded_data"
   ]
  },
  {
   "cell_type": "code",
   "execution_count": 360,
   "metadata": {},
   "outputs": [],
   "source": [
    "sur_results = pd.DataFrame([np.mean(sur_loaded_data[0][i].y, axis=1)[10:] for i in range(10)]).T"
   ]
  },
  {
   "cell_type": "code",
   "execution_count": 361,
   "metadata": {},
   "outputs": [],
   "source": [
    "def reduce_to_means_per_iteration(sur_df, group_size):\n",
    "    sur_df['Iteration'] = [i for i in range(group_size) for _ in range(len(sur_df)//group_size)]\n",
    "    return pd.DataFrame(sur_df.groupby('Iteration').mean().to_numpy())  "
   ]
  },
  {
   "cell_type": "code",
   "execution_count": 362,
   "metadata": {},
   "outputs": [],
   "source": [
    "sur_results20 = reduce_to_means_per_iteration(sur_results,20)"
   ]
  },
  {
   "cell_type": "code",
   "execution_count": 363,
   "metadata": {},
   "outputs": [],
   "source": [
    "sur_df = pd.melt(sur_results20, var_name='Iteration', value_name='Surrogate', ignore_index=False).reset_index()"
   ]
  },
  {
   "cell_type": "code",
   "execution_count": 364,
   "metadata": {},
   "outputs": [
    {
     "data": {
      "text/plain": [
       "[[AxClient(experiment=Experiment(simulation_test_experiment)),\n",
       "  AxClient(experiment=Experiment(simulation_test_experiment)),\n",
       "  AxClient(experiment=Experiment(simulation_test_experiment)),\n",
       "  AxClient(experiment=Experiment(simulation_test_experiment)),\n",
       "  AxClient(experiment=Experiment(simulation_test_experiment)),\n",
       "  AxClient(experiment=Experiment(simulation_test_experiment)),\n",
       "  AxClient(experiment=Experiment(simulation_test_experiment)),\n",
       "  AxClient(experiment=Experiment(simulation_test_experiment)),\n",
       "  AxClient(experiment=Experiment(simulation_test_experiment)),\n",
       "  AxClient(experiment=Experiment(simulation_test_experiment))],\n",
       " 190.87201750278473,\n",
       " {'A': array([[0., 1., 0., ..., 0., 0., 0.],\n",
       "         [1., 0., 1., ..., 0., 0., 0.],\n",
       "         [0., 1., 0., ..., 0., 0., 0.],\n",
       "         ...,\n",
       "         [0., 0., 0., ..., 0., 0., 0.],\n",
       "         [0., 0., 0., ..., 0., 0., 0.],\n",
       "         [0., 0., 0., ..., 0., 0., 0.]]),\n",
       "  'protocol': 'srs',\n",
       "  'p_gen': 0.9,\n",
       "  'p_swap': 1,\n",
       "  'return_data': 'avg',\n",
       "  'progress_bar': None,\n",
       "  'total_time': 300,\n",
       "  'N_samples': 10}]"
      ]
     },
     "execution_count": 364,
     "metadata": {},
     "output_type": "execute_result"
    }
   ],
   "source": [
    "import pickle\n",
    "\n",
    "# surrogate optimization and simulated annealing\n",
    "with open('../surdata/Ax_tree34_iter-20_objective-meanopt10-31-2023_21:31.pkl', 'rb') as file: \n",
    "    # Load the object from the file\n",
    "    ax_loaded_data = pickle.load(file)\n",
    "ax_loaded_data"
   ]
  },
  {
   "cell_type": "code",
   "execution_count": 386,
   "metadata": {},
   "outputs": [],
   "source": [
    "ax_results = pd.DataFrame([np.array(ax_loaded_data[0][i].get_trials_data_frame()['mean']) for i in range(10)]).T\n",
    "ax_df = pd.melt(ax_results, var_name='Iteration', value_name='Ax', ignore_index=False).reset_index()"
   ]
  },
  {
   "cell_type": "code",
   "execution_count": 387,
   "metadata": {},
   "outputs": [
    {
     "data": {
      "text/html": [
       "<div>\n",
       "<style scoped>\n",
       "    .dataframe tbody tr th:only-of-type {\n",
       "        vertical-align: middle;\n",
       "    }\n",
       "\n",
       "    .dataframe tbody tr th {\n",
       "        vertical-align: top;\n",
       "    }\n",
       "\n",
       "    .dataframe thead th {\n",
       "        text-align: right;\n",
       "    }\n",
       "</style>\n",
       "<table border=\"1\" class=\"dataframe\">\n",
       "  <thead>\n",
       "    <tr style=\"text-align: right;\">\n",
       "      <th></th>\n",
       "      <th>index</th>\n",
       "      <th>Iteration</th>\n",
       "      <th>Ax</th>\n",
       "    </tr>\n",
       "  </thead>\n",
       "  <tbody>\n",
       "    <tr>\n",
       "      <th>0</th>\n",
       "      <td>0</td>\n",
       "      <td>0</td>\n",
       "      <td>2.172222</td>\n",
       "    </tr>\n",
       "    <tr>\n",
       "      <th>1</th>\n",
       "      <td>1</td>\n",
       "      <td>0</td>\n",
       "      <td>2.394444</td>\n",
       "    </tr>\n",
       "    <tr>\n",
       "      <th>2</th>\n",
       "      <td>2</td>\n",
       "      <td>0</td>\n",
       "      <td>2.266667</td>\n",
       "    </tr>\n",
       "    <tr>\n",
       "      <th>3</th>\n",
       "      <td>3</td>\n",
       "      <td>0</td>\n",
       "      <td>2.305556</td>\n",
       "    </tr>\n",
       "    <tr>\n",
       "      <th>4</th>\n",
       "      <td>4</td>\n",
       "      <td>0</td>\n",
       "      <td>2.791667</td>\n",
       "    </tr>\n",
       "    <tr>\n",
       "      <th>...</th>\n",
       "      <td>...</td>\n",
       "      <td>...</td>\n",
       "      <td>...</td>\n",
       "    </tr>\n",
       "    <tr>\n",
       "      <th>195</th>\n",
       "      <td>15</td>\n",
       "      <td>9</td>\n",
       "      <td>3.480556</td>\n",
       "    </tr>\n",
       "    <tr>\n",
       "      <th>196</th>\n",
       "      <td>16</td>\n",
       "      <td>9</td>\n",
       "      <td>3.397222</td>\n",
       "    </tr>\n",
       "    <tr>\n",
       "      <th>197</th>\n",
       "      <td>17</td>\n",
       "      <td>9</td>\n",
       "      <td>3.450000</td>\n",
       "    </tr>\n",
       "    <tr>\n",
       "      <th>198</th>\n",
       "      <td>18</td>\n",
       "      <td>9</td>\n",
       "      <td>3.300000</td>\n",
       "    </tr>\n",
       "    <tr>\n",
       "      <th>199</th>\n",
       "      <td>19</td>\n",
       "      <td>9</td>\n",
       "      <td>3.327778</td>\n",
       "    </tr>\n",
       "  </tbody>\n",
       "</table>\n",
       "<p>200 rows × 3 columns</p>\n",
       "</div>"
      ],
      "text/plain": [
       "     index  Iteration        Ax\n",
       "0        0          0  2.172222\n",
       "1        1          0  2.394444\n",
       "2        2          0  2.266667\n",
       "3        3          0  2.305556\n",
       "4        4          0  2.791667\n",
       "..     ...        ...       ...\n",
       "195     15          9  3.480556\n",
       "196     16          9  3.397222\n",
       "197     17          9  3.450000\n",
       "198     18          9  3.300000\n",
       "199     19          9  3.327778\n",
       "\n",
       "[200 rows x 3 columns]"
      ]
     },
     "execution_count": 387,
     "metadata": {},
     "output_type": "execute_result"
    }
   ],
   "source": [
    "ax_df"
   ]
  },
  {
   "cell_type": "code",
   "execution_count": 366,
   "metadata": {},
   "outputs": [
    {
     "data": {
      "text/html": [
       "<div>\n",
       "<style scoped>\n",
       "    .dataframe tbody tr th:only-of-type {\n",
       "        vertical-align: middle;\n",
       "    }\n",
       "\n",
       "    .dataframe tbody tr th {\n",
       "        vertical-align: top;\n",
       "    }\n",
       "\n",
       "    .dataframe thead th {\n",
       "        text-align: right;\n",
       "    }\n",
       "</style>\n",
       "<table border=\"1\" class=\"dataframe\">\n",
       "  <thead>\n",
       "    <tr style=\"text-align: right;\">\n",
       "      <th></th>\n",
       "      <th>index</th>\n",
       "      <th>Iteration</th>\n",
       "      <th>Surrogate</th>\n",
       "      <th>Ax</th>\n",
       "    </tr>\n",
       "  </thead>\n",
       "  <tbody>\n",
       "    <tr>\n",
       "      <th>0</th>\n",
       "      <td>0</td>\n",
       "      <td>0</td>\n",
       "      <td>2.397778</td>\n",
       "      <td>2.172222</td>\n",
       "    </tr>\n",
       "    <tr>\n",
       "      <th>1</th>\n",
       "      <td>1</td>\n",
       "      <td>0</td>\n",
       "      <td>2.382778</td>\n",
       "      <td>2.394444</td>\n",
       "    </tr>\n",
       "    <tr>\n",
       "      <th>2</th>\n",
       "      <td>2</td>\n",
       "      <td>0</td>\n",
       "      <td>2.375000</td>\n",
       "      <td>2.266667</td>\n",
       "    </tr>\n",
       "    <tr>\n",
       "      <th>3</th>\n",
       "      <td>3</td>\n",
       "      <td>0</td>\n",
       "      <td>2.423333</td>\n",
       "      <td>2.305556</td>\n",
       "    </tr>\n",
       "    <tr>\n",
       "      <th>4</th>\n",
       "      <td>4</td>\n",
       "      <td>0</td>\n",
       "      <td>2.333333</td>\n",
       "      <td>2.791667</td>\n",
       "    </tr>\n",
       "    <tr>\n",
       "      <th>...</th>\n",
       "      <td>...</td>\n",
       "      <td>...</td>\n",
       "      <td>...</td>\n",
       "      <td>...</td>\n",
       "    </tr>\n",
       "    <tr>\n",
       "      <th>195</th>\n",
       "      <td>15</td>\n",
       "      <td>9</td>\n",
       "      <td>3.265833</td>\n",
       "      <td>3.480556</td>\n",
       "    </tr>\n",
       "    <tr>\n",
       "      <th>196</th>\n",
       "      <td>16</td>\n",
       "      <td>9</td>\n",
       "      <td>3.278056</td>\n",
       "      <td>3.397222</td>\n",
       "    </tr>\n",
       "    <tr>\n",
       "      <th>197</th>\n",
       "      <td>17</td>\n",
       "      <td>9</td>\n",
       "      <td>3.293611</td>\n",
       "      <td>3.450000</td>\n",
       "    </tr>\n",
       "    <tr>\n",
       "      <th>198</th>\n",
       "      <td>18</td>\n",
       "      <td>9</td>\n",
       "      <td>3.327500</td>\n",
       "      <td>3.300000</td>\n",
       "    </tr>\n",
       "    <tr>\n",
       "      <th>199</th>\n",
       "      <td>19</td>\n",
       "      <td>9</td>\n",
       "      <td>3.322500</td>\n",
       "      <td>3.327778</td>\n",
       "    </tr>\n",
       "  </tbody>\n",
       "</table>\n",
       "<p>200 rows × 4 columns</p>\n",
       "</div>"
      ],
      "text/plain": [
       "     index  Iteration  Surrogate        Ax\n",
       "0        0          0   2.397778  2.172222\n",
       "1        1          0   2.382778  2.394444\n",
       "2        2          0   2.375000  2.266667\n",
       "3        3          0   2.423333  2.305556\n",
       "4        4          0   2.333333  2.791667\n",
       "..     ...        ...        ...       ...\n",
       "195     15          9   3.265833  3.480556\n",
       "196     16          9   3.278056  3.397222\n",
       "197     17          9   3.293611  3.450000\n",
       "198     18          9   3.327500  3.300000\n",
       "199     19          9   3.322500  3.327778\n",
       "\n",
       "[200 rows x 4 columns]"
      ]
     },
     "execution_count": 366,
     "metadata": {},
     "output_type": "execute_result"
    }
   ],
   "source": [
    "sur_df.merge(ax_df)"
   ]
  },
  {
   "cell_type": "code",
   "execution_count": 375,
   "metadata": {},
   "outputs": [
    {
     "data": {
      "text/html": [
       "<div>\n",
       "<style scoped>\n",
       "    .dataframe tbody tr th:only-of-type {\n",
       "        vertical-align: middle;\n",
       "    }\n",
       "\n",
       "    .dataframe tbody tr th {\n",
       "        vertical-align: top;\n",
       "    }\n",
       "\n",
       "    .dataframe thead th {\n",
       "        text-align: right;\n",
       "    }\n",
       "</style>\n",
       "<table border=\"1\" class=\"dataframe\">\n",
       "  <thead>\n",
       "    <tr style=\"text-align: right;\">\n",
       "      <th></th>\n",
       "      <th>M</th>\n",
       "      <th>qbits_per_channel</th>\n",
       "      <th>cutoff</th>\n",
       "      <th>q_swap</th>\n",
       "      <th>p_cons</th>\n",
       "      <th>objective</th>\n",
       "    </tr>\n",
       "  </thead>\n",
       "  <tbody>\n",
       "    <tr>\n",
       "      <th>0</th>\n",
       "      <td>7</td>\n",
       "      <td>29</td>\n",
       "      <td>2.650913</td>\n",
       "      <td>0.779691</td>\n",
       "      <td>0.123402</td>\n",
       "      <td>2.200000</td>\n",
       "    </tr>\n",
       "    <tr>\n",
       "      <th>1</th>\n",
       "      <td>3</td>\n",
       "      <td>8</td>\n",
       "      <td>9.637078</td>\n",
       "      <td>0.980856</td>\n",
       "      <td>0.064386</td>\n",
       "      <td>3.155556</td>\n",
       "    </tr>\n",
       "    <tr>\n",
       "      <th>2</th>\n",
       "      <td>1</td>\n",
       "      <td>6</td>\n",
       "      <td>9.918945</td>\n",
       "      <td>0.468735</td>\n",
       "      <td>0.142039</td>\n",
       "      <td>1.944444</td>\n",
       "    </tr>\n",
       "    <tr>\n",
       "      <th>3</th>\n",
       "      <td>8</td>\n",
       "      <td>11</td>\n",
       "      <td>5.500632</td>\n",
       "      <td>0.357008</td>\n",
       "      <td>0.175997</td>\n",
       "      <td>2.355556</td>\n",
       "    </tr>\n",
       "    <tr>\n",
       "      <th>4</th>\n",
       "      <td>7</td>\n",
       "      <td>46</td>\n",
       "      <td>4.017927</td>\n",
       "      <td>0.844855</td>\n",
       "      <td>0.034388</td>\n",
       "      <td>2.811111</td>\n",
       "    </tr>\n",
       "    <tr>\n",
       "      <th>5</th>\n",
       "      <td>4</td>\n",
       "      <td>12</td>\n",
       "      <td>7.050057</td>\n",
       "      <td>0.384178</td>\n",
       "      <td>0.068127</td>\n",
       "      <td>2.672222</td>\n",
       "    </tr>\n",
       "    <tr>\n",
       "      <th>6</th>\n",
       "      <td>7</td>\n",
       "      <td>42</td>\n",
       "      <td>3.770193</td>\n",
       "      <td>0.914027</td>\n",
       "      <td>0.121181</td>\n",
       "      <td>2.455556</td>\n",
       "    </tr>\n",
       "    <tr>\n",
       "      <th>7</th>\n",
       "      <td>1</td>\n",
       "      <td>7</td>\n",
       "      <td>6.974866</td>\n",
       "      <td>0.204184</td>\n",
       "      <td>0.186855</td>\n",
       "      <td>1.950000</td>\n",
       "    </tr>\n",
       "    <tr>\n",
       "      <th>8</th>\n",
       "      <td>5</td>\n",
       "      <td>30</td>\n",
       "      <td>3.755459</td>\n",
       "      <td>0.255176</td>\n",
       "      <td>0.084544</td>\n",
       "      <td>2.166667</td>\n",
       "    </tr>\n",
       "    <tr>\n",
       "      <th>9</th>\n",
       "      <td>2</td>\n",
       "      <td>17</td>\n",
       "      <td>5.658566</td>\n",
       "      <td>0.764642</td>\n",
       "      <td>0.023044</td>\n",
       "      <td>2.816667</td>\n",
       "    </tr>\n",
       "    <tr>\n",
       "      <th>10</th>\n",
       "      <td>6</td>\n",
       "      <td>32</td>\n",
       "      <td>3.789471</td>\n",
       "      <td>0.464034</td>\n",
       "      <td>0.063799</td>\n",
       "      <td>2.388889</td>\n",
       "    </tr>\n",
       "    <tr>\n",
       "      <th>11</th>\n",
       "      <td>5</td>\n",
       "      <td>15</td>\n",
       "      <td>1.278339</td>\n",
       "      <td>0.543993</td>\n",
       "      <td>0.073864</td>\n",
       "      <td>2.005556</td>\n",
       "    </tr>\n",
       "    <tr>\n",
       "      <th>12</th>\n",
       "      <td>4</td>\n",
       "      <td>22</td>\n",
       "      <td>7.028715</td>\n",
       "      <td>0.464431</td>\n",
       "      <td>0.087599</td>\n",
       "      <td>2.633333</td>\n",
       "    </tr>\n",
       "    <tr>\n",
       "      <th>13</th>\n",
       "      <td>9</td>\n",
       "      <td>30</td>\n",
       "      <td>9.167263</td>\n",
       "      <td>0.766022</td>\n",
       "      <td>0.035183</td>\n",
       "      <td>3.288889</td>\n",
       "    </tr>\n",
       "    <tr>\n",
       "      <th>14</th>\n",
       "      <td>4</td>\n",
       "      <td>44</td>\n",
       "      <td>2.471090</td>\n",
       "      <td>0.762000</td>\n",
       "      <td>0.091084</td>\n",
       "      <td>2.222222</td>\n",
       "    </tr>\n",
       "    <tr>\n",
       "      <th>15</th>\n",
       "      <td>3</td>\n",
       "      <td>20</td>\n",
       "      <td>7.142329</td>\n",
       "      <td>0.464127</td>\n",
       "      <td>0.191113</td>\n",
       "      <td>2.494444</td>\n",
       "    </tr>\n",
       "    <tr>\n",
       "      <th>16</th>\n",
       "      <td>5</td>\n",
       "      <td>14</td>\n",
       "      <td>4.711583</td>\n",
       "      <td>0.852451</td>\n",
       "      <td>0.083853</td>\n",
       "      <td>2.661111</td>\n",
       "    </tr>\n",
       "    <tr>\n",
       "      <th>17</th>\n",
       "      <td>7</td>\n",
       "      <td>25</td>\n",
       "      <td>5.728018</td>\n",
       "      <td>0.384627</td>\n",
       "      <td>0.164173</td>\n",
       "      <td>2.383333</td>\n",
       "    </tr>\n",
       "    <tr>\n",
       "      <th>18</th>\n",
       "      <td>5</td>\n",
       "      <td>4</td>\n",
       "      <td>5.707760</td>\n",
       "      <td>0.674702</td>\n",
       "      <td>0.092424</td>\n",
       "      <td>2.650000</td>\n",
       "    </tr>\n",
       "    <tr>\n",
       "      <th>19</th>\n",
       "      <td>8</td>\n",
       "      <td>21</td>\n",
       "      <td>7.933858</td>\n",
       "      <td>0.962466</td>\n",
       "      <td>0.167092</td>\n",
       "      <td>2.905556</td>\n",
       "    </tr>\n",
       "    <tr>\n",
       "      <th>20</th>\n",
       "      <td>5</td>\n",
       "      <td>9</td>\n",
       "      <td>6.086330</td>\n",
       "      <td>0.556771</td>\n",
       "      <td>0.091920</td>\n",
       "      <td>2.738889</td>\n",
       "    </tr>\n",
       "  </tbody>\n",
       "</table>\n",
       "</div>"
      ],
      "text/plain": [
       "    M  qbits_per_channel    cutoff    q_swap    p_cons  objective\n",
       "0   7                 29  2.650913  0.779691  0.123402   2.200000\n",
       "1   3                  8  9.637078  0.980856  0.064386   3.155556\n",
       "2   1                  6  9.918945  0.468735  0.142039   1.944444\n",
       "3   8                 11  5.500632  0.357008  0.175997   2.355556\n",
       "4   7                 46  4.017927  0.844855  0.034388   2.811111\n",
       "5   4                 12  7.050057  0.384178  0.068127   2.672222\n",
       "6   7                 42  3.770193  0.914027  0.121181   2.455556\n",
       "7   1                  7  6.974866  0.204184  0.186855   1.950000\n",
       "8   5                 30  3.755459  0.255176  0.084544   2.166667\n",
       "9   2                 17  5.658566  0.764642  0.023044   2.816667\n",
       "10  6                 32  3.789471  0.464034  0.063799   2.388889\n",
       "11  5                 15  1.278339  0.543993  0.073864   2.005556\n",
       "12  4                 22  7.028715  0.464431  0.087599   2.633333\n",
       "13  9                 30  9.167263  0.766022  0.035183   3.288889\n",
       "14  4                 44  2.471090  0.762000  0.091084   2.222222\n",
       "15  3                 20  7.142329  0.464127  0.191113   2.494444\n",
       "16  5                 14  4.711583  0.852451  0.083853   2.661111\n",
       "17  7                 25  5.728018  0.384627  0.164173   2.383333\n",
       "18  5                  4  5.707760  0.674702  0.092424   2.650000\n",
       "19  8                 21  7.933858  0.962466  0.167092   2.905556\n",
       "20  5                  9  6.086330  0.556771  0.091920   2.738889"
      ]
     },
     "execution_count": 375,
     "metadata": {},
     "output_type": "execute_result"
    }
   ],
   "source": [
    "# surrogate optimization and simulated annealing\n",
    "with open('../surdata/SA_tree34_iter-20_objective-meanopt11-01-2023_03:58.pkl', 'rb') as file: \n",
    "    # Load the object from the file\n",
    "    sa_loaded_data = pickle.load(file)"
   ]
  },
  {
   "cell_type": "code",
   "execution_count": 419,
   "metadata": {},
   "outputs": [],
   "source": [
    "sa_results = pd.DataFrame([np.array(sa_loaded_data[0][i].objective[:20]) for i in range(10)]).T\n",
    "sa_df = pd.melt(sa_results, var_name='Iteration', value_name='SA', ignore_index=False).reset_index()"
   ]
  },
  {
   "cell_type": "code",
   "execution_count": 420,
   "metadata": {},
   "outputs": [
    {
     "data": {
      "text/html": [
       "<div>\n",
       "<style scoped>\n",
       "    .dataframe tbody tr th:only-of-type {\n",
       "        vertical-align: middle;\n",
       "    }\n",
       "\n",
       "    .dataframe tbody tr th {\n",
       "        vertical-align: top;\n",
       "    }\n",
       "\n",
       "    .dataframe thead th {\n",
       "        text-align: right;\n",
       "    }\n",
       "</style>\n",
       "<table border=\"1\" class=\"dataframe\">\n",
       "  <thead>\n",
       "    <tr style=\"text-align: right;\">\n",
       "      <th></th>\n",
       "      <th>0</th>\n",
       "      <th>1</th>\n",
       "      <th>2</th>\n",
       "      <th>3</th>\n",
       "      <th>4</th>\n",
       "      <th>5</th>\n",
       "      <th>6</th>\n",
       "      <th>7</th>\n",
       "      <th>8</th>\n",
       "      <th>9</th>\n",
       "    </tr>\n",
       "  </thead>\n",
       "  <tbody>\n",
       "    <tr>\n",
       "      <th>0</th>\n",
       "      <td>2.200000</td>\n",
       "      <td>2.188889</td>\n",
       "      <td>2.161111</td>\n",
       "      <td>2.233333</td>\n",
       "      <td>2.105556</td>\n",
       "      <td>2.144444</td>\n",
       "      <td>2.122222</td>\n",
       "      <td>2.211111</td>\n",
       "      <td>2.238889</td>\n",
       "      <td>2.150000</td>\n",
       "    </tr>\n",
       "    <tr>\n",
       "      <th>1</th>\n",
       "      <td>3.155556</td>\n",
       "      <td>2.505556</td>\n",
       "      <td>2.416667</td>\n",
       "      <td>1.861111</td>\n",
       "      <td>1.938889</td>\n",
       "      <td>2.766667</td>\n",
       "      <td>2.250000</td>\n",
       "      <td>0.822222</td>\n",
       "      <td>2.566667</td>\n",
       "      <td>0.950000</td>\n",
       "    </tr>\n",
       "    <tr>\n",
       "      <th>2</th>\n",
       "      <td>1.944444</td>\n",
       "      <td>2.433333</td>\n",
       "      <td>2.116667</td>\n",
       "      <td>2.483333</td>\n",
       "      <td>2.144444</td>\n",
       "      <td>2.416667</td>\n",
       "      <td>2.772222</td>\n",
       "      <td>2.111111</td>\n",
       "      <td>2.550000</td>\n",
       "      <td>3.066667</td>\n",
       "    </tr>\n",
       "    <tr>\n",
       "      <th>3</th>\n",
       "      <td>2.355556</td>\n",
       "      <td>1.933333</td>\n",
       "      <td>1.900000</td>\n",
       "      <td>2.733333</td>\n",
       "      <td>2.972222</td>\n",
       "      <td>1.805556</td>\n",
       "      <td>2.511111</td>\n",
       "      <td>1.950000</td>\n",
       "      <td>2.211111</td>\n",
       "      <td>1.916667</td>\n",
       "    </tr>\n",
       "    <tr>\n",
       "      <th>4</th>\n",
       "      <td>2.811111</td>\n",
       "      <td>2.772222</td>\n",
       "      <td>2.522222</td>\n",
       "      <td>2.055556</td>\n",
       "      <td>2.533333</td>\n",
       "      <td>3.072222</td>\n",
       "      <td>2.700000</td>\n",
       "      <td>1.927778</td>\n",
       "      <td>2.277778</td>\n",
       "      <td>3.166667</td>\n",
       "    </tr>\n",
       "    <tr>\n",
       "      <th>5</th>\n",
       "      <td>2.672222</td>\n",
       "      <td>2.716667</td>\n",
       "      <td>2.227778</td>\n",
       "      <td>2.383333</td>\n",
       "      <td>2.772222</td>\n",
       "      <td>1.322222</td>\n",
       "      <td>2.361111</td>\n",
       "      <td>1.911111</td>\n",
       "      <td>2.711111</td>\n",
       "      <td>2.211111</td>\n",
       "    </tr>\n",
       "    <tr>\n",
       "      <th>6</th>\n",
       "      <td>2.455556</td>\n",
       "      <td>1.927778</td>\n",
       "      <td>2.738889</td>\n",
       "      <td>3.261111</td>\n",
       "      <td>2.455556</td>\n",
       "      <td>2.355556</td>\n",
       "      <td>2.405556</td>\n",
       "      <td>2.166667</td>\n",
       "      <td>2.238889</td>\n",
       "      <td>2.494444</td>\n",
       "    </tr>\n",
       "    <tr>\n",
       "      <th>7</th>\n",
       "      <td>1.950000</td>\n",
       "      <td>1.794444</td>\n",
       "      <td>3.288889</td>\n",
       "      <td>2.744444</td>\n",
       "      <td>2.322222</td>\n",
       "      <td>2.472222</td>\n",
       "      <td>2.661111</td>\n",
       "      <td>2.922222</td>\n",
       "      <td>3.233333</td>\n",
       "      <td>2.633333</td>\n",
       "    </tr>\n",
       "    <tr>\n",
       "      <th>8</th>\n",
       "      <td>2.166667</td>\n",
       "      <td>1.583333</td>\n",
       "      <td>1.950000</td>\n",
       "      <td>2.188889</td>\n",
       "      <td>1.922222</td>\n",
       "      <td>2.788889</td>\n",
       "      <td>3.088889</td>\n",
       "      <td>2.833333</td>\n",
       "      <td>2.533333</td>\n",
       "      <td>2.150000</td>\n",
       "    </tr>\n",
       "    <tr>\n",
       "      <th>9</th>\n",
       "      <td>2.816667</td>\n",
       "      <td>2.294444</td>\n",
       "      <td>2.138889</td>\n",
       "      <td>2.000000</td>\n",
       "      <td>2.477778</td>\n",
       "      <td>2.022222</td>\n",
       "      <td>1.850000</td>\n",
       "      <td>2.777778</td>\n",
       "      <td>2.477778</td>\n",
       "      <td>2.916667</td>\n",
       "    </tr>\n",
       "    <tr>\n",
       "      <th>10</th>\n",
       "      <td>2.388889</td>\n",
       "      <td>2.733333</td>\n",
       "      <td>2.244444</td>\n",
       "      <td>2.572222</td>\n",
       "      <td>2.505556</td>\n",
       "      <td>2.650000</td>\n",
       "      <td>1.822222</td>\n",
       "      <td>2.138889</td>\n",
       "      <td>2.700000</td>\n",
       "      <td>3.194444</td>\n",
       "    </tr>\n",
       "    <tr>\n",
       "      <th>11</th>\n",
       "      <td>2.005556</td>\n",
       "      <td>2.366667</td>\n",
       "      <td>2.405556</td>\n",
       "      <td>1.983333</td>\n",
       "      <td>1.877778</td>\n",
       "      <td>2.472222</td>\n",
       "      <td>1.927778</td>\n",
       "      <td>2.011111</td>\n",
       "      <td>2.355556</td>\n",
       "      <td>2.683333</td>\n",
       "    </tr>\n",
       "    <tr>\n",
       "      <th>12</th>\n",
       "      <td>2.633333</td>\n",
       "      <td>2.938889</td>\n",
       "      <td>2.633333</td>\n",
       "      <td>2.977778</td>\n",
       "      <td>2.911111</td>\n",
       "      <td>2.083333</td>\n",
       "      <td>2.616667</td>\n",
       "      <td>2.366667</td>\n",
       "      <td>2.727778</td>\n",
       "      <td>2.644444</td>\n",
       "    </tr>\n",
       "    <tr>\n",
       "      <th>13</th>\n",
       "      <td>3.288889</td>\n",
       "      <td>2.455556</td>\n",
       "      <td>1.950000</td>\n",
       "      <td>2.472222</td>\n",
       "      <td>2.794444</td>\n",
       "      <td>3.088889</td>\n",
       "      <td>3.000000</td>\n",
       "      <td>2.833333</td>\n",
       "      <td>3.016667</td>\n",
       "      <td>2.255556</td>\n",
       "    </tr>\n",
       "    <tr>\n",
       "      <th>14</th>\n",
       "      <td>2.222222</td>\n",
       "      <td>2.361111</td>\n",
       "      <td>2.822222</td>\n",
       "      <td>2.727778</td>\n",
       "      <td>2.988889</td>\n",
       "      <td>2.027778</td>\n",
       "      <td>2.572222</td>\n",
       "      <td>2.644444</td>\n",
       "      <td>2.644444</td>\n",
       "      <td>2.605556</td>\n",
       "    </tr>\n",
       "    <tr>\n",
       "      <th>15</th>\n",
       "      <td>2.494444</td>\n",
       "      <td>2.577778</td>\n",
       "      <td>2.277778</td>\n",
       "      <td>2.788889</td>\n",
       "      <td>2.338889</td>\n",
       "      <td>2.372222</td>\n",
       "      <td>2.916667</td>\n",
       "      <td>2.000000</td>\n",
       "      <td>2.650000</td>\n",
       "      <td>2.266667</td>\n",
       "    </tr>\n",
       "    <tr>\n",
       "      <th>16</th>\n",
       "      <td>2.661111</td>\n",
       "      <td>2.588889</td>\n",
       "      <td>2.655556</td>\n",
       "      <td>2.122222</td>\n",
       "      <td>2.366667</td>\n",
       "      <td>1.650000</td>\n",
       "      <td>2.977778</td>\n",
       "      <td>1.994444</td>\n",
       "      <td>2.594444</td>\n",
       "      <td>3.338889</td>\n",
       "    </tr>\n",
       "    <tr>\n",
       "      <th>17</th>\n",
       "      <td>2.383333</td>\n",
       "      <td>2.583333</td>\n",
       "      <td>2.744444</td>\n",
       "      <td>2.883333</td>\n",
       "      <td>2.705556</td>\n",
       "      <td>3.088889</td>\n",
       "      <td>2.811111</td>\n",
       "      <td>2.738889</td>\n",
       "      <td>2.227778</td>\n",
       "      <td>3.038889</td>\n",
       "    </tr>\n",
       "    <tr>\n",
       "      <th>18</th>\n",
       "      <td>2.650000</td>\n",
       "      <td>2.583333</td>\n",
       "      <td>2.638889</td>\n",
       "      <td>2.883333</td>\n",
       "      <td>2.633333</td>\n",
       "      <td>2.283333</td>\n",
       "      <td>2.738889</td>\n",
       "      <td>2.444444</td>\n",
       "      <td>3.261111</td>\n",
       "      <td>2.188889</td>\n",
       "    </tr>\n",
       "    <tr>\n",
       "      <th>19</th>\n",
       "      <td>2.905556</td>\n",
       "      <td>2.950000</td>\n",
       "      <td>2.522222</td>\n",
       "      <td>2.138889</td>\n",
       "      <td>1.977778</td>\n",
       "      <td>2.572222</td>\n",
       "      <td>2.261111</td>\n",
       "      <td>1.827778</td>\n",
       "      <td>2.450000</td>\n",
       "      <td>2.244444</td>\n",
       "    </tr>\n",
       "  </tbody>\n",
       "</table>\n",
       "</div>"
      ],
      "text/plain": [
       "           0         1         2         3         4         5         6  \\\n",
       "0   2.200000  2.188889  2.161111  2.233333  2.105556  2.144444  2.122222   \n",
       "1   3.155556  2.505556  2.416667  1.861111  1.938889  2.766667  2.250000   \n",
       "2   1.944444  2.433333  2.116667  2.483333  2.144444  2.416667  2.772222   \n",
       "3   2.355556  1.933333  1.900000  2.733333  2.972222  1.805556  2.511111   \n",
       "4   2.811111  2.772222  2.522222  2.055556  2.533333  3.072222  2.700000   \n",
       "5   2.672222  2.716667  2.227778  2.383333  2.772222  1.322222  2.361111   \n",
       "6   2.455556  1.927778  2.738889  3.261111  2.455556  2.355556  2.405556   \n",
       "7   1.950000  1.794444  3.288889  2.744444  2.322222  2.472222  2.661111   \n",
       "8   2.166667  1.583333  1.950000  2.188889  1.922222  2.788889  3.088889   \n",
       "9   2.816667  2.294444  2.138889  2.000000  2.477778  2.022222  1.850000   \n",
       "10  2.388889  2.733333  2.244444  2.572222  2.505556  2.650000  1.822222   \n",
       "11  2.005556  2.366667  2.405556  1.983333  1.877778  2.472222  1.927778   \n",
       "12  2.633333  2.938889  2.633333  2.977778  2.911111  2.083333  2.616667   \n",
       "13  3.288889  2.455556  1.950000  2.472222  2.794444  3.088889  3.000000   \n",
       "14  2.222222  2.361111  2.822222  2.727778  2.988889  2.027778  2.572222   \n",
       "15  2.494444  2.577778  2.277778  2.788889  2.338889  2.372222  2.916667   \n",
       "16  2.661111  2.588889  2.655556  2.122222  2.366667  1.650000  2.977778   \n",
       "17  2.383333  2.583333  2.744444  2.883333  2.705556  3.088889  2.811111   \n",
       "18  2.650000  2.583333  2.638889  2.883333  2.633333  2.283333  2.738889   \n",
       "19  2.905556  2.950000  2.522222  2.138889  1.977778  2.572222  2.261111   \n",
       "\n",
       "           7         8         9  \n",
       "0   2.211111  2.238889  2.150000  \n",
       "1   0.822222  2.566667  0.950000  \n",
       "2   2.111111  2.550000  3.066667  \n",
       "3   1.950000  2.211111  1.916667  \n",
       "4   1.927778  2.277778  3.166667  \n",
       "5   1.911111  2.711111  2.211111  \n",
       "6   2.166667  2.238889  2.494444  \n",
       "7   2.922222  3.233333  2.633333  \n",
       "8   2.833333  2.533333  2.150000  \n",
       "9   2.777778  2.477778  2.916667  \n",
       "10  2.138889  2.700000  3.194444  \n",
       "11  2.011111  2.355556  2.683333  \n",
       "12  2.366667  2.727778  2.644444  \n",
       "13  2.833333  3.016667  2.255556  \n",
       "14  2.644444  2.644444  2.605556  \n",
       "15  2.000000  2.650000  2.266667  \n",
       "16  1.994444  2.594444  3.338889  \n",
       "17  2.738889  2.227778  3.038889  \n",
       "18  2.444444  3.261111  2.188889  \n",
       "19  1.827778  2.450000  2.244444  "
      ]
     },
     "execution_count": 420,
     "metadata": {},
     "output_type": "execute_result"
    }
   ],
   "source": [
    "sa_results"
   ]
  },
  {
   "cell_type": "code",
   "execution_count": 427,
   "metadata": {},
   "outputs": [],
   "source": [
    "df_plot = pd.concat([sur_df, ax_df, sa_df], axis=1).T.drop_duplicates().T.melt(id_vars=['index', 'Iteration'], value_name='result')"
   ]
  },
  {
   "cell_type": "code",
   "execution_count": 428,
   "metadata": {},
   "outputs": [
    {
     "data": {
      "text/html": [
       "<div>\n",
       "<style scoped>\n",
       "    .dataframe tbody tr th:only-of-type {\n",
       "        vertical-align: middle;\n",
       "    }\n",
       "\n",
       "    .dataframe tbody tr th {\n",
       "        vertical-align: top;\n",
       "    }\n",
       "\n",
       "    .dataframe thead th {\n",
       "        text-align: right;\n",
       "    }\n",
       "</style>\n",
       "<table border=\"1\" class=\"dataframe\">\n",
       "  <thead>\n",
       "    <tr style=\"text-align: right;\">\n",
       "      <th></th>\n",
       "      <th>index</th>\n",
       "      <th>Iteration</th>\n",
       "      <th>variable</th>\n",
       "      <th>result</th>\n",
       "    </tr>\n",
       "  </thead>\n",
       "  <tbody>\n",
       "    <tr>\n",
       "      <th>0</th>\n",
       "      <td>0.0</td>\n",
       "      <td>0.0</td>\n",
       "      <td>Surrogate</td>\n",
       "      <td>2.397778</td>\n",
       "    </tr>\n",
       "    <tr>\n",
       "      <th>1</th>\n",
       "      <td>1.0</td>\n",
       "      <td>0.0</td>\n",
       "      <td>Surrogate</td>\n",
       "      <td>2.382778</td>\n",
       "    </tr>\n",
       "    <tr>\n",
       "      <th>2</th>\n",
       "      <td>2.0</td>\n",
       "      <td>0.0</td>\n",
       "      <td>Surrogate</td>\n",
       "      <td>2.375000</td>\n",
       "    </tr>\n",
       "    <tr>\n",
       "      <th>3</th>\n",
       "      <td>3.0</td>\n",
       "      <td>0.0</td>\n",
       "      <td>Surrogate</td>\n",
       "      <td>2.423333</td>\n",
       "    </tr>\n",
       "    <tr>\n",
       "      <th>4</th>\n",
       "      <td>4.0</td>\n",
       "      <td>0.0</td>\n",
       "      <td>Surrogate</td>\n",
       "      <td>2.333333</td>\n",
       "    </tr>\n",
       "    <tr>\n",
       "      <th>...</th>\n",
       "      <td>...</td>\n",
       "      <td>...</td>\n",
       "      <td>...</td>\n",
       "      <td>...</td>\n",
       "    </tr>\n",
       "    <tr>\n",
       "      <th>595</th>\n",
       "      <td>15.0</td>\n",
       "      <td>9.0</td>\n",
       "      <td>SA</td>\n",
       "      <td>2.266667</td>\n",
       "    </tr>\n",
       "    <tr>\n",
       "      <th>596</th>\n",
       "      <td>16.0</td>\n",
       "      <td>9.0</td>\n",
       "      <td>SA</td>\n",
       "      <td>3.338889</td>\n",
       "    </tr>\n",
       "    <tr>\n",
       "      <th>597</th>\n",
       "      <td>17.0</td>\n",
       "      <td>9.0</td>\n",
       "      <td>SA</td>\n",
       "      <td>3.038889</td>\n",
       "    </tr>\n",
       "    <tr>\n",
       "      <th>598</th>\n",
       "      <td>18.0</td>\n",
       "      <td>9.0</td>\n",
       "      <td>SA</td>\n",
       "      <td>2.188889</td>\n",
       "    </tr>\n",
       "    <tr>\n",
       "      <th>599</th>\n",
       "      <td>19.0</td>\n",
       "      <td>9.0</td>\n",
       "      <td>SA</td>\n",
       "      <td>2.244444</td>\n",
       "    </tr>\n",
       "  </tbody>\n",
       "</table>\n",
       "<p>600 rows × 4 columns</p>\n",
       "</div>"
      ],
      "text/plain": [
       "     index  Iteration   variable    result\n",
       "0      0.0        0.0  Surrogate  2.397778\n",
       "1      1.0        0.0  Surrogate  2.382778\n",
       "2      2.0        0.0  Surrogate  2.375000\n",
       "3      3.0        0.0  Surrogate  2.423333\n",
       "4      4.0        0.0  Surrogate  2.333333\n",
       "..     ...        ...        ...       ...\n",
       "595   15.0        9.0         SA  2.266667\n",
       "596   16.0        9.0         SA  3.338889\n",
       "597   17.0        9.0         SA  3.038889\n",
       "598   18.0        9.0         SA  2.188889\n",
       "599   19.0        9.0         SA  2.244444\n",
       "\n",
       "[600 rows x 4 columns]"
      ]
     },
     "execution_count": 428,
     "metadata": {},
     "output_type": "execute_result"
    }
   ],
   "source": [
    "df_plot"
   ]
  },
  {
   "cell_type": "code",
   "execution_count": 429,
   "metadata": {},
   "outputs": [
    {
     "data": {
      "image/png": "[encoded data removed]",
      "text/plain": [
       "<Figure size 640x480 with 1 Axes>"
      ]
     },
     "metadata": {},
     "output_type": "display_data"
    }
   ],
   "source": [
    "from  matplotlib.ticker import FuncFormatter\n",
    "sns.lineplot(data = df_plot, x='index', y='result', hue='variable')\n",
    "plt.gca().xaxis.set_major_formatter(FuncFormatter(lambda x, _: int(x)))"
   ]
  },
  {
   "cell_type": "code",
   "execution_count": 149,
   "metadata": {},
   "outputs": [],
   "source": [
    "# bandit optimization\n",
    "with open('../surdata/Ax_tree23_iter-2_objective-meanopt10-31-2023_18:13.pkl', 'rb') as file: \n",
    "    # Load the object from the file\n",
    "    ax_data = pickle.load(file)"
   ]
  },
  {
   "cell_type": "code",
   "execution_count": 164,
   "metadata": {},
   "outputs": [
    {
     "data": {
      "text/plain": [
       "(0,\n",
       " {'M': 0,\n",
       "  'qbits_per_channel': 47,\n",
       "  'cutoff': 8.64177656173706,\n",
       "  'q_swap': 0.6341571807861328,\n",
       "  'p_cons': 0.026782657653093338},\n",
       " ({'mean': 0.0}, {'mean': {'mean': 0.0}}))"
      ]
     },
     "execution_count": 164,
     "metadata": {},
     "output_type": "execute_result"
    }
   ],
   "source": [
    "ax_data[0][0]"
   ]
  },
  {
   "cell_type": "code",
   "execution_count": 116,
   "metadata": {},
   "outputs": [
    {
     "data": {
      "text/plain": [
       "3.0793650793650795"
      ]
     },
     "execution_count": 116,
     "metadata": {},
     "output_type": "execute_result"
    }
   ],
   "source": [
    "np.mean(model.y[-1])"
   ]
  },
  {
   "cell_type": "code",
   "execution_count": 117,
   "metadata": {},
   "outputs": [
    {
     "data": {
      "text/plain": [
       "3.216422466422466"
      ]
     },
     "execution_count": 117,
     "metadata": {},
     "output_type": "execute_result"
    }
   ],
   "source": [
    "-ySA[-1]"
   ]
  },
  {
   "cell_type": "code",
   "execution_count": 118,
   "metadata": {},
   "outputs": [
    {
     "data": {
      "text/plain": [
       "[AxClient(experiment=Experiment(simulation_test_experiment)),\n",
       " 342.70709919929504,\n",
       " {'A': array([[0., 1., 0., 0., 1., 0., 0.],\n",
       "         [1., 0., 1., 1., 0., 0., 0.],\n",
       "         [0., 1., 0., 0., 0., 0., 0.],\n",
       "         [0., 1., 0., 0., 0., 0., 0.],\n",
       "         [1., 0., 0., 0., 0., 1., 1.],\n",
       "         [0., 0., 0., 0., 1., 0., 0.],\n",
       "         [0., 0., 0., 0., 1., 0., 0.]]),\n",
       "  'protocol': 'srs',\n",
       "  'p_gen': 0.9,\n",
       "  'p_swap': 1,\n",
       "  'return_data': 'avg',\n",
       "  'progress_bar': None,\n",
       "  'total_time': 300,\n",
       "  'N_samples': 10}]"
      ]
     },
     "execution_count": 118,
     "metadata": {},
     "output_type": "execute_result"
    }
   ],
   "source": [
    "ax_data"
   ]
  },
  {
   "cell_type": "code",
   "execution_count": 119,
   "metadata": {},
   "outputs": [
    {
     "data": {
      "text/plain": [
       "trial_index                109\n",
       "arm_name                 109_0\n",
       "trial_status         COMPLETED\n",
       "generation_method         GPEI\n",
       "mean                  2.793651\n",
       "M                            7\n",
       "qbits_per_channel           35\n",
       "cutoff                    10.0\n",
       "q_swap                0.535906\n",
       "p_cons                0.074549\n",
       "Name: 109, dtype: object"
      ]
     },
     "execution_count": 119,
     "metadata": {},
     "output_type": "execute_result"
    }
   ],
   "source": [
    "ax_experiment = ax_data[0]\n",
    "ax_experiment.get_trials_data_frame().iloc[-1]"
   ]
  },
  {
   "attachments": {},
   "cell_type": "markdown",
   "metadata": {},
   "source": [
    "Ax"
   ]
  },
  {
   "cell_type": "code",
   "execution_count": 120,
   "metadata": {},
   "outputs": [
    {
     "data": {
      "text/plain": [
       "[AxClient(experiment=Experiment(simulation_test_experiment)),\n",
       " 342.70709919929504,\n",
       " {'A': array([[0., 1., 0., 0., 1., 0., 0.],\n",
       "         [1., 0., 1., 1., 0., 0., 0.],\n",
       "         [0., 1., 0., 0., 0., 0., 0.],\n",
       "         [0., 1., 0., 0., 0., 0., 0.],\n",
       "         [1., 0., 0., 0., 0., 1., 1.],\n",
       "         [0., 0., 0., 0., 1., 0., 0.],\n",
       "         [0., 0., 0., 0., 1., 0., 0.]]),\n",
       "  'protocol': 'srs',\n",
       "  'p_gen': 0.9,\n",
       "  'p_swap': 1,\n",
       "  'return_data': 'avg',\n",
       "  'progress_bar': None,\n",
       "  'total_time': 300,\n",
       "  'N_samples': 10}]"
      ]
     },
     "execution_count": 120,
     "metadata": {},
     "output_type": "execute_result"
    }
   ],
   "source": [
    "ax_data"
   ]
  },
  {
   "cell_type": "code",
   "execution_count": 121,
   "metadata": {},
   "outputs": [],
   "source": [
    "ax_experiment = ax_data[0]\n"
   ]
  },
  {
   "cell_type": "code",
   "execution_count": 122,
   "metadata": {},
   "outputs": [
    {
     "data": {
      "text/plain": [
       "AxClient(experiment=Experiment(simulation_test_experiment))"
      ]
     },
     "execution_count": 122,
     "metadata": {},
     "output_type": "execute_result"
    }
   ],
   "source": [
    "ax_experiment"
   ]
  },
  {
   "cell_type": "code",
   "execution_count": 123,
   "metadata": {},
   "outputs": [],
   "source": [
    "df_ax_results = ax_experiment.get_trials_data_frame().iloc[:, 4:11]\n",
    "df_ax_results['node_mean'] = df_ax_results.apply(np.mean, axis=1)"
   ]
  },
  {
   "cell_type": "code",
   "execution_count": 124,
   "metadata": {},
   "outputs": [
    {
     "data": {
      "text/plain": [
       "0      2.222222\n",
       "1      2.158730\n",
       "2      2.634921\n",
       "3      1.111111\n",
       "4      2.412698\n",
       "         ...   \n",
       "105    2.761905\n",
       "106    2.761905\n",
       "107    0.984127\n",
       "108    2.634921\n",
       "109    2.793651\n",
       "Name: mean, Length: 110, dtype: float64"
      ]
     },
     "execution_count": 124,
     "metadata": {},
     "output_type": "execute_result"
    }
   ],
   "source": [
    "ax_experiment.get_trials_data_frame()['mean']"
   ]
  },
  {
   "cell_type": "code",
   "execution_count": 125,
   "metadata": {},
   "outputs": [
    {
     "data": {
      "text/plain": [
       "<matplotlib.legend.Legend at 0x295a4e9a0>"
      ]
     },
     "execution_count": 125,
     "metadata": {},
     "output_type": "execute_result"
    },
    {
     "data": {
      "image/png": "[encoded data removed]",
      "text/plain": [
       "<Figure size 640x480 with 1 Axes>"
      ]
     },
     "metadata": {},
     "output_type": "display_data"
    }
   ],
   "source": [
    "#fig = plt.figure(figsize=(20,10))\n",
    "plt.title('Surrogate Optimization')\n",
    "plt.plot([np.mean(y_i) for y_i in np.array(model.y)], 'x', label='Surrogate optimization')\n",
    "#plt.plot([np.mean(y_i) for y_i in np.array(ySA)*-1], 'x', label='Baseline (simulated annealing)')\n",
    "plt.plot(ax_experiment.get_trials_data_frame()['mean'], 'x', label='Baseline (BoTorch)')\n",
    "#plt.plot([np.mean(np.array(y_i)) for y_i in refmodel.y],'x', label='Random evaluations')\n",
    "plt.ylabel('# virtual neighbours')\n",
    "plt.xlabel('Iteration')\n",
    "plt.legend()"
   ]
  },
  {
   "cell_type": "code",
   "execution_count": 28,
   "metadata": {},
   "outputs": [
    {
     "data": {
      "text/html": [
       "<div>\n",
       "<style scoped>\n",
       "    .dataframe tbody tr th:only-of-type {\n",
       "        vertical-align: middle;\n",
       "    }\n",
       "\n",
       "    .dataframe tbody tr th {\n",
       "        vertical-align: top;\n",
       "    }\n",
       "\n",
       "    .dataframe thead th {\n",
       "        text-align: right;\n",
       "    }\n",
       "</style>\n",
       "<table border=\"1\" class=\"dataframe\">\n",
       "  <thead>\n",
       "    <tr style=\"text-align: right;\">\n",
       "      <th></th>\n",
       "      <th>trial_index</th>\n",
       "      <th>arm_name</th>\n",
       "      <th>trial_status</th>\n",
       "      <th>generation_method</th>\n",
       "      <th>mean</th>\n",
       "      <th>M</th>\n",
       "      <th>qbits_per_channel</th>\n",
       "      <th>cutoff</th>\n",
       "      <th>q_swap</th>\n",
       "      <th>p_cons</th>\n",
       "    </tr>\n",
       "  </thead>\n",
       "  <tbody>\n",
       "    <tr>\n",
       "      <th>0</th>\n",
       "      <td>0</td>\n",
       "      <td>0_0</td>\n",
       "      <td>COMPLETED</td>\n",
       "      <td>Sobol</td>\n",
       "      <td>2.448118</td>\n",
       "      <td>5</td>\n",
       "      <td>3</td>\n",
       "      <td>6.957043</td>\n",
       "      <td>0.972659</td>\n",
       "      <td>0.107974</td>\n",
       "    </tr>\n",
       "    <tr>\n",
       "      <th>1</th>\n",
       "      <td>1</td>\n",
       "      <td>1_0</td>\n",
       "      <td>COMPLETED</td>\n",
       "      <td>Sobol</td>\n",
       "      <td>2.191001</td>\n",
       "      <td>5</td>\n",
       "      <td>50</td>\n",
       "      <td>3.687072</td>\n",
       "      <td>0.195957</td>\n",
       "      <td>0.056803</td>\n",
       "    </tr>\n",
       "    <tr>\n",
       "      <th>2</th>\n",
       "      <td>2</td>\n",
       "      <td>2_0</td>\n",
       "      <td>COMPLETED</td>\n",
       "      <td>Sobol</td>\n",
       "      <td>2.743802</td>\n",
       "      <td>4</td>\n",
       "      <td>37</td>\n",
       "      <td>6.783028</td>\n",
       "      <td>0.827821</td>\n",
       "      <td>0.194770</td>\n",
       "    </tr>\n",
       "    <tr>\n",
       "      <th>3</th>\n",
       "      <td>3</td>\n",
       "      <td>3_0</td>\n",
       "      <td>COMPLETED</td>\n",
       "      <td>Sobol</td>\n",
       "      <td>1.836547</td>\n",
       "      <td>2</td>\n",
       "      <td>22</td>\n",
       "      <td>1.234270</td>\n",
       "      <td>0.494645</td>\n",
       "      <td>0.163173</td>\n",
       "    </tr>\n",
       "    <tr>\n",
       "      <th>4</th>\n",
       "      <td>4</td>\n",
       "      <td>4_0</td>\n",
       "      <td>COMPLETED</td>\n",
       "      <td>Sobol</td>\n",
       "      <td>3.340680</td>\n",
       "      <td>8</td>\n",
       "      <td>29</td>\n",
       "      <td>9.946476</td>\n",
       "      <td>0.879804</td>\n",
       "      <td>0.069523</td>\n",
       "    </tr>\n",
       "    <tr>\n",
       "      <th>...</th>\n",
       "      <td>...</td>\n",
       "      <td>...</td>\n",
       "      <td>...</td>\n",
       "      <td>...</td>\n",
       "      <td>...</td>\n",
       "      <td>...</td>\n",
       "      <td>...</td>\n",
       "      <td>...</td>\n",
       "      <td>...</td>\n",
       "      <td>...</td>\n",
       "    </tr>\n",
       "    <tr>\n",
       "      <th>115</th>\n",
       "      <td>115</td>\n",
       "      <td>115_0</td>\n",
       "      <td>COMPLETED</td>\n",
       "      <td>GPEI</td>\n",
       "      <td>3.543618</td>\n",
       "      <td>9</td>\n",
       "      <td>43</td>\n",
       "      <td>9.842401</td>\n",
       "      <td>1.000000</td>\n",
       "      <td>0.028671</td>\n",
       "    </tr>\n",
       "    <tr>\n",
       "      <th>116</th>\n",
       "      <td>116</td>\n",
       "      <td>116_0</td>\n",
       "      <td>COMPLETED</td>\n",
       "      <td>GPEI</td>\n",
       "      <td>3.017447</td>\n",
       "      <td>6</td>\n",
       "      <td>21</td>\n",
       "      <td>6.879380</td>\n",
       "      <td>0.783876</td>\n",
       "      <td>0.065972</td>\n",
       "    </tr>\n",
       "    <tr>\n",
       "      <th>117</th>\n",
       "      <td>117</td>\n",
       "      <td>117_0</td>\n",
       "      <td>COMPLETED</td>\n",
       "      <td>GPEI</td>\n",
       "      <td>3.264463</td>\n",
       "      <td>8</td>\n",
       "      <td>33</td>\n",
       "      <td>8.767982</td>\n",
       "      <td>0.840266</td>\n",
       "      <td>0.055270</td>\n",
       "    </tr>\n",
       "    <tr>\n",
       "      <th>118</th>\n",
       "      <td>118</td>\n",
       "      <td>118_0</td>\n",
       "      <td>COMPLETED</td>\n",
       "      <td>GPEI</td>\n",
       "      <td>3.426997</td>\n",
       "      <td>6</td>\n",
       "      <td>37</td>\n",
       "      <td>10.000000</td>\n",
       "      <td>1.000000</td>\n",
       "      <td>0.074457</td>\n",
       "    </tr>\n",
       "    <tr>\n",
       "      <th>119</th>\n",
       "      <td>119</td>\n",
       "      <td>119_0</td>\n",
       "      <td>COMPLETED</td>\n",
       "      <td>GPEI</td>\n",
       "      <td>2.762167</td>\n",
       "      <td>3</td>\n",
       "      <td>12</td>\n",
       "      <td>10.000000</td>\n",
       "      <td>0.684047</td>\n",
       "      <td>0.200000</td>\n",
       "    </tr>\n",
       "  </tbody>\n",
       "</table>\n",
       "<p>120 rows × 10 columns</p>\n",
       "</div>"
      ],
      "text/plain": [
       "     trial_index arm_name trial_status generation_method      mean  M  \\\n",
       "0              0      0_0    COMPLETED             Sobol  2.448118  5   \n",
       "1              1      1_0    COMPLETED             Sobol  2.191001  5   \n",
       "2              2      2_0    COMPLETED             Sobol  2.743802  4   \n",
       "3              3      3_0    COMPLETED             Sobol  1.836547  2   \n",
       "4              4      4_0    COMPLETED             Sobol  3.340680  8   \n",
       "..           ...      ...          ...               ...       ... ..   \n",
       "115          115    115_0    COMPLETED              GPEI  3.543618  9   \n",
       "116          116    116_0    COMPLETED              GPEI  3.017447  6   \n",
       "117          117    117_0    COMPLETED              GPEI  3.264463  8   \n",
       "118          118    118_0    COMPLETED              GPEI  3.426997  6   \n",
       "119          119    119_0    COMPLETED              GPEI  2.762167  3   \n",
       "\n",
       "     qbits_per_channel     cutoff    q_swap    p_cons  \n",
       "0                    3   6.957043  0.972659  0.107974  \n",
       "1                   50   3.687072  0.195957  0.056803  \n",
       "2                   37   6.783028  0.827821  0.194770  \n",
       "3                   22   1.234270  0.494645  0.163173  \n",
       "4                   29   9.946476  0.879804  0.069523  \n",
       "..                 ...        ...       ...       ...  \n",
       "115                 43   9.842401  1.000000  0.028671  \n",
       "116                 21   6.879380  0.783876  0.065972  \n",
       "117                 33   8.767982  0.840266  0.055270  \n",
       "118                 37  10.000000  1.000000  0.074457  \n",
       "119                 12  10.000000  0.684047  0.200000  \n",
       "\n",
       "[120 rows x 10 columns]"
      ]
     },
     "execution_count": 28,
     "metadata": {},
     "output_type": "execute_result"
    }
   ],
   "source": [
    "ax_experiment.get()"
   ]
  },
  {
   "cell_type": "code",
   "execution_count": 30,
   "metadata": {},
   "outputs": [
    {
     "name": "stderr",
     "output_type": "stream",
     "text": [
      "/opt/homebrew/Caskroom/miniforge/base/envs/qnetsur/lib/python3.9/site-packages/ax/utils/stats/model_fit_stats.py:132: RuntimeWarning: divide by zero encountered in divide\n",
      "  return float(np.mean(1.96 * 2 * se_pred / np.abs(y_obs)))\n",
      "/opt/homebrew/Caskroom/miniforge/base/envs/qnetsur/lib/python3.9/site-packages/ax/utils/stats/model_fit_stats.py:143: RuntimeWarning: divide by zero encountered in divide\n",
      "  return float(np.mean(np.abs((y_pred - y_obs) / y_obs)))\n",
      "/opt/homebrew/Caskroom/miniforge/base/envs/qnetsur/lib/python3.9/site-packages/ax/utils/stats/model_fit_stats.py:150: RuntimeWarning: divide by zero encountered in scalar divide\n",
      "  return float((np.max(y_obs) - min_y_obs) / min_y_obs)\n"
     ]
    },
    {
     "data": {
      "text/plain": [
       "(119,\n",
       " {'M': 8,\n",
       "  'qbits_per_channel': 39,\n",
       "  'cutoff': 8.818591914672425,\n",
       "  'q_swap': 1.0,\n",
       "  'p_cons': 0.01},\n",
       " ({'mean': 3.455816937480411}, {'mean': {'mean': 0.027636438499553682}}))"
      ]
     },
     "execution_count": 30,
     "metadata": {},
     "output_type": "execute_result"
    }
   ],
   "source": [
    "ax_experiment.get_best_trial()"
   ]
  },
  {
   "attachments": {},
   "cell_type": "markdown",
   "metadata": {},
   "source": [
    "SURROGATE TEST"
   ]
  },
  {
   "cell_type": "code",
   "execution_count": 255,
   "metadata": {},
   "outputs": [],
   "source": [
    "from sklearn.svm import SVR\n",
    "from sklearn.ensemble import ExtraTreesRegressor\n",
    "\n",
    "a = -5\n",
    "b = 5\n",
    "n=100\n",
    "\n",
    "res = []\n",
    "\n",
    "dim = 5\n",
    "fun = lambda row: -sum([row[i]**2 for i in range(dim)])\n",
    "\n",
    "def get_neighbour(row,count): \n",
    "    f = (1-np.log(1+count/n))**4\n",
    "    return np.array([np.random.normal(row[i], scale=(np.sqrt(b-a)*f)) for i in range(dim)])\n",
    "\n",
    "df = pd.DataFrame((b-a)*np.random.sample((1000,dim))+a)\n",
    "for i in range(n):\n",
    "    model = SVR()\n",
    "    target = df.apply(fun, axis=1)\n",
    "    model.fit(df,target)\n",
    "    df_add = pd.DataFrame.from_records(df.iloc[np.argsort(target)[-20:].values].apply(get_neighbour, args=(i,), axis=1).to_numpy())\n",
    "    y = model.predict(df_add)\n",
    "    y = np.concatenate([target,y])\n",
    "    index = y.argmax()\n",
    "    #print(i)\n",
    "    \n",
    "    \n",
    "    df = pd.concat([df, df_add], axis=0, ignore_index=True)\n",
    "    res.append(df.iloc[index].to_frame().apply(fun)) "
   ]
  },
  {
   "cell_type": "code",
   "execution_count": 256,
   "metadata": {},
   "outputs": [
    {
     "name": "stdout",
     "output_type": "stream",
     "text": [
      "-0.0009051172038535393\n"
     ]
    },
    {
     "data": {
      "image/png": "[encoded data removed]",
      "text/plain": [
       "<Figure size 640x480 with 1 Axes>"
      ]
     },
     "metadata": {},
     "output_type": "display_data"
    }
   ],
   "source": [
    "plt.plot(res, 'x')\n",
    "print(np.max(res))"
   ]
  },
  {
   "cell_type": "code",
   "execution_count": 302,
   "metadata": {},
   "outputs": [],
   "source": [
    "from scipy.optimize import minimize\n",
    "import numpy as np\n",
    "\n",
    "def cosmixture(**kwargs):\n",
    "    a = kwargs.get('a', 0)\n",
    "    b = kwargs.get('b', 0)\n",
    "    c = kwargs.get('c', 0)\n",
    "    return -(a * np.cos(b) + c)\n",
    "\n",
    "# Create a function that takes a 1-D array and converts it to **kwargs\n",
    "def objective_function(params):\n",
    "    kwargs = {'a': params[0], 'b': params[1], 'c': params[2]}\n",
    "    return cosmixture(**kwargs)\n",
    "\n",
    "# Initial guess for parameters as a 1-D array\n",
    "initial_guess = [1, 1, 1]\n",
    "\n",
    "# Perform the optimization\n",
    "result = minimize(objective_function, initial_guess, method='Nelder-Mead')\n",
    "\n",
    "# Extract the optimized parameters\n",
    "optimized_params = result.x"
   ]
  },
  {
   "cell_type": "code",
   "execution_count": 18,
   "metadata": {},
   "outputs": [],
   "source": [
    "import pickle\n",
    "\n",
    "with open('../surdata/scipy_vs_simanneal.pkl', 'rb') as file: # ../surdata/tree23_iter-10_objective-meanopt10-03-2023_18:04.pkl\n",
    "    # Load the object from the file\n",
    "    loaded_data = pickle.load(file)"
   ]
  },
  {
   "cell_type": "code",
   "execution_count": 24,
   "metadata": {},
   "outputs": [
    {
     "data": {
      "text/plain": [
       "[71.86763978750275,\n",
       " 42.580355501571766,\n",
       " 54.41926217369501,\n",
       " 15.838702433143798,\n",
       " 12.928220368330127,\n",
       " 1.14104508600452]"
      ]
     },
     "execution_count": 24,
     "metadata": {},
     "output_type": "execute_result"
    }
   ],
   "source": [
    "loaded_data[0][0][1][-1]"
   ]
  },
  {
   "cell_type": "code",
   "execution_count": 3,
   "metadata": {},
   "outputs": [
    {
     "name": "stdout",
     "output_type": "stream",
     "text": [
      "a\n",
      "b\n"
     ]
    }
   ],
   "source": [
    "Simulation()"
   ]
  },
  {
   "cell_type": "code",
   "execution_count": 89,
   "metadata": {},
   "outputs": [
    {
     "data": {
      "text/plain": [
       "[<matplotlib.lines.Line2D at 0x2ba86c400>]"
      ]
     },
     "execution_count": 89,
     "metadata": {},
     "output_type": "execute_result"
    },
    {
     "data": {
      "image/png": "[encoded data removed]",
      "text/plain": [
       "<Figure size 640x480 with 1 Axes>"
      ]
     },
     "metadata": {},
     "output_type": "display_data"
    }
   ],
   "source": [
    "plt.plot([(1-np.log(1+x)**2)**5 for x in np.linspace(0,1,1000)])"
   ]
  },
  {
   "cell_type": "code",
   "execution_count": 171,
   "metadata": {},
   "outputs": [],
   "source": [
    "a = {'1':2}"
   ]
  },
  {
   "cell_type": "code",
   "execution_count": 172,
   "metadata": {},
   "outputs": [],
   "source": [
    "b = a.copy()\n",
    "b['t'] = 5"
   ]
  },
  {
   "cell_type": "code",
   "execution_count": 173,
   "metadata": {},
   "outputs": [
    {
     "data": {
      "text/plain": [
       "{'1': 2}"
      ]
     },
     "execution_count": 173,
     "metadata": {},
     "output_type": "execute_result"
    }
   ],
   "source": [
    "a"
   ]
  },
  {
   "cell_type": "code",
   "execution_count": null,
   "metadata": {},
   "outputs": [],
   "source": []
  }
 ],
 "metadata": {
  "kernelspec": {
   "display_name": "qnetsur",
   "language": "python",
   "name": "python3"
  },
  "language_info": {
   "codemirror_mode": {
    "name": "ipython",
    "version": 3
   },
   "file_extension": ".py",
   "mimetype": "text/x-python",
   "name": "python",
   "nbconvert_exporter": "python",
   "pygments_lexer": "ipython3",
   "version": "3.9.18"
  },
  "orig_nbformat": 4
 },
 "nbformat": 4,
 "nbformat_minor": 2
}
