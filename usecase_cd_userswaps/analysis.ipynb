{
 "cells": [
  {
   "cell_type": "code",
   "execution_count": 1,
   "metadata": {},
   "outputs": [],
   "source": [
    "import pandas as pd\n",
    "import glob"
   ]
  },
  {
   "cell_type": "code",
   "execution_count": 6,
   "metadata": {},
   "outputs": [
    {
     "data": {
      "text/plain": [
       "84.90909090909089"
      ]
     },
     "execution_count": 6,
     "metadata": {},
     "output_type": "execute_result"
    }
   ],
   "source": [
    "df = pd.concat([pd.read_csv(file, index_col=0) for file in glob.glob(f'/Users/localadmin/Documents/git/surdata/cdtest/*.csv')], axis=0)\n",
    "max(df.objective)"
   ]
  },
  {
   "cell_type": "code",
   "execution_count": 4,
   "metadata": {},
   "outputs": [],
   "source": [
    "df=pd.read_csv('/Users/localadmin/Documents/git/surdata/cdtest/SU_randtree-100_1.0hours_SEED42_08-10-2024_13:11:36.csv', index_col=0)"
   ]
  },
  {
   "cell_type": "code",
   "execution_count": 7,
   "metadata": {},
   "outputs": [
    {
     "name": "stdout",
     "output_type": "stream",
     "text": [
      "0.3533808521302211\n",
      "0.0930979661073181\n",
      "0.0561661317889469\n",
      "0.0524423632667725\n",
      "0.4773563848896769\n",
      "0.4565255711675236\n",
      "0.8247191309625228\n",
      "0.8924246745497244\n",
      "0.7914634475423297\n",
      "0.9254530092428378\n",
      "0.9624955812679212\n",
      "0.6842702977343729\n",
      "0.9523250194996294\n",
      "0.428389288790364\n",
      "0.0034359339590598\n",
      "0.9701307392876204\n",
      "0.0054176875528336\n",
      "0.4658758345885452\n",
      "0.5368253167944128\n",
      "0.8295480434471791\n",
      "0.0421873589082089\n",
      "0.8292294838770491\n",
      "0.0609126122337927\n",
      "0.8431740081078228\n",
      "0.4965950827596342\n",
      "0.0721262385451171\n",
      "0.1823453415431832\n",
      "0.5240762730581657\n",
      "0.7379584948510055\n",
      "0.2719512301838281\n",
      "0.9034148624617536\n",
      "0.9990324080196424\n",
      "0.0499581458026425\n",
      "0.0435208791676628\n",
      "0.0836498355146251\n",
      "0.0204069427901027\n",
      "0.5257444194729008\n",
      "0.6668705649618243\n",
      "0.4648886756842563\n",
      "0.5396851866310092\n"
     ]
    }
   ],
   "source": [
    "for item in df.iloc[df['objective'].argmax()][:40]:\n",
    "    print(item)"
   ]
  }
 ],
 "metadata": {
  "kernelspec": {
   "display_name": "qnetsur",
   "language": "python",
   "name": "python3"
  },
  "language_info": {
   "codemirror_mode": {
    "name": "ipython",
    "version": 3
   },
   "file_extension": ".py",
   "mimetype": "text/x-python",
   "name": "python",
   "nbconvert_exporter": "python",
   "pygments_lexer": "ipython3",
   "version": "3.9.19"
  }
 },
 "nbformat": 4,
 "nbformat_minor": 2
}
