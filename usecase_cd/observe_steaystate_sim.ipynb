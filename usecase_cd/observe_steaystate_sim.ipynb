{
 "cells": [
  {
   "cell_type": "code",
   "execution_count": null,
   "metadata": {},
   "outputs": [],
   "source": [
    "from optimizingcd import main_cd as simulation\n",
    "import numpy as np\n",
    "import matplotlib.pyplot as plt\n",
    "import pickle\n",
    "plt.style.use(\"seaborn-v0_8-paper\")\n",
    "\n",
    "font = 16\n",
    "plt.rcParams.update({\n",
    "    'text.usetex': False,\n",
    "    'font.family': 'arial',\n",
    "    'font.size': font,\n",
    "    'axes.labelsize': font,  \n",
    "    'xtick.labelsize': font,  \n",
    "    'ytick.labelsize': font, \n",
    "    'legend.fontsize': font,\n",
    "    'legend.title_fontsize': font,\n",
    "    'axes.titlesize': font\n",
    "})"
   ]
  },
  {
   "cell_type": "code",
   "execution_count": null,
   "metadata": {},
   "outputs": [],
   "source": [
    "n = 100\n",
    "vals = { # define fixed parameters for given simulation function \n",
    "            'protocol':'ndsrs', \n",
    "            'A': simulation.adjacency_random_tree(n),\n",
    "            'p_gen': 0.9,  # generation rate\n",
    "            'q_swap': np.random.random_sample(n),\n",
    "            'p_swap': 1,  # success probability\n",
    "            'p_cons': 0.9/4,  # consumption rate\n",
    "            'cutoff': 28,\n",
    "            'M': 10,\n",
    "            'qbits_per_channel': 5,\n",
    "            'N_samples' : 1000,\n",
    "            'total_time': 1000,\n",
    "            }\n",
    "sim_result = simulation.simulation_cd(**vals)"
   ]
  },
  {
   "cell_type": "code",
   "execution_count": null,
   "metadata": {},
   "outputs": [],
   "source": [
    "with open('??.pkl', 'rb') as file:\n",
    "    res = pickle.load(file)\n",
    "res"
   ]
  },
  {
   "cell_type": "code",
   "execution_count": null,
   "metadata": {},
   "outputs": [],
   "source": [
    "with open('sim_random_N=1000_T=1000.pkl', 'rb') as file:\n",
    "    (mean_per_node, std_per_node) = pickle.load(file)"
   ]
  },
  {
   "cell_type": "code",
   "execution_count": null,
   "metadata": {},
   "outputs": [],
   "source": [
    "plt.plot(mean_per_node[:10].T[:10])\n",
    "plt.ylabel('# virtual neighbors')\n",
    "plt.xlabel(r'$T_{sim}$')"
   ]
  },
  {
   "cell_type": "code",
   "execution_count": null,
   "metadata": {},
   "outputs": [],
   "source": [
    "plt.plot(mean_per_node[:10].T[:50])\n",
    "plt.ylabel('# Virtual Neighbors')\n",
    "plt.xlabel(r'$T_{sim}$')\n",
    "plt.grid()\n",
    "plt.savefig('steady-50.pdf', bbox_inches=\"tight\")"
   ]
  },
  {
   "cell_type": "code",
   "execution_count": null,
   "metadata": {},
   "outputs": [],
   "source": [
    "plt.plot(mean_per_node[:10].T[:1000], label=[f'Node {i}' for i in range(10)])\n",
    "plt.ylabel('# Virtual Neighbors')\n",
    "plt.xlabel(r'$T_{sim}$')\n",
    "plt.grid()\n",
    "plt.legend( bbox_to_anchor=(1.05, 1))\n",
    "plt.savefig('steady-1000.pdf', bbox_inches=\"tight\")\n"
   ]
  },
  {
   "cell_type": "code",
   "execution_count": null,
   "metadata": {},
   "outputs": [],
   "source": []
  }
 ],
 "metadata": {
  "kernelspec": {
   "display_name": "qnetsur",
   "language": "python",
   "name": "python3"
  },
  "language_info": {
   "codemirror_mode": {
    "name": "ipython",
    "version": 3
   },
   "file_extension": ".py",
   "mimetype": "text/x-python",
   "name": "python",
   "nbconvert_exporter": "python",
   "pygments_lexer": "ipython3",
   "version": "3.9.19"
  }
 },
 "nbformat": 4,
 "nbformat_minor": 2
}
